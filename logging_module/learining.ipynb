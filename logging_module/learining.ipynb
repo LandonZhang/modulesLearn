{
 "cells": [
  {
   "cell_type": "code",
   "execution_count": 2,
   "metadata": {},
   "outputs": [
    {
     "name": "stderr",
     "output_type": "stream",
     "text": [
      "WARNING:root:WARNING\n",
      "ERROR:root:ERROR\n",
      "CRITICAL:root:CRITICAL\n"
     ]
    }
   ],
   "source": [
    "import logging\n",
    "\n",
    "logging.debug(\"DEBUG\")\n",
    "logging.info(\"INFO\")\n",
    "logging.warning(\"WARNING\")\n",
    "logging.error(\"ERROR\")\n",
    "logging.critical(\"CRITICAL\")\n"
   ]
  },
  {
   "cell_type": "code",
   "execution_count": 3,
   "metadata": {},
   "outputs": [
    {
     "name": "stderr",
     "output_type": "stream",
     "text": [
      "WARNING:root:WARNING\n",
      "ERROR:root:ERROR\n",
      "CRITICAL:root:CRITICAL\n"
     ]
    }
   ],
   "source": [
    "import logging\n",
    "\n",
    "logging.basicConfig(level=logging.DEBUG)\n",
    "\n",
    "logging.debug(\"DEBUG\")\n",
    "logging.info(\"INFO\")\n",
    "logging.warning(\"WARNING\")\n",
    "logging.error(\"ERROR\")\n",
    "logging.critical(\"CRITICAL\")\n"
   ]
  }
 ],
 "metadata": {
  "kernelspec": {
   "display_name": "base",
   "language": "python",
   "name": "python3"
  },
  "language_info": {
   "codemirror_mode": {
    "name": "ipython",
    "version": 3
   },
   "file_extension": ".py",
   "mimetype": "text/x-python",
   "name": "python",
   "nbconvert_exporter": "python",
   "pygments_lexer": "ipython3",
   "version": "3.12.7"
  }
 },
 "nbformat": 4,
 "nbformat_minor": 2
}
