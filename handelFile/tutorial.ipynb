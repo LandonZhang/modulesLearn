{
 "cells": [
  {
   "cell_type": "markdown",
   "metadata": {},
   "source": [
    "### 使用 open 函数打开文件\n"
   ]
  },
  {
   "cell_type": "code",
   "execution_count": 35,
   "metadata": {},
   "outputs": [
    {
     "data": {
      "text/plain": [
       "WindowsPath('e:/Life Style/Python学习/modules_learn/handelFile')"
      ]
     },
     "execution_count": 35,
     "metadata": {},
     "output_type": "execute_result"
    }
   ],
   "source": [
    "from pathlib import Path\n",
    "\n",
    "Path.cwd()  # jupyter 处理当前工作文件的方式与 Python 不同"
   ]
  },
  {
   "cell_type": "code",
   "execution_count": 36,
   "metadata": {},
   "outputs": [
    {
     "name": "stdout",
     "output_type": "stream",
     "text": [
      "文件名是： ./temp.txt\n",
      "文件打开的模式是： r\n"
     ]
    }
   ],
   "source": [
    "f = open(\"./temp.txt\", \"r\")\n",
    "print(\"文件名是：\", f.name)\n",
    "print(\"文件打开的模式是：\", f.mode)\n",
    "f.close()  # 打开之后一定要关闭，否则文件流一直存在"
   ]
  },
  {
   "cell_type": "markdown",
   "metadata": {},
   "source": [
    "### 使用上下文管理器打开文件\n",
    "\n",
    "退出后自动关闭文件流\n"
   ]
  },
  {
   "cell_type": "code",
   "execution_count": 37,
   "metadata": {},
   "outputs": [
    {
     "name": "stdout",
     "output_type": "stream",
     "text": [
      "文件名是： ./temp.txt\n",
      "文件打开的模式是： r\n",
      "False\n",
      "True\n"
     ]
    }
   ],
   "source": [
    "with open(\"./temp.txt\", \"r\") as f:\n",
    "    print(\"文件名是：\", f.name)\n",
    "    print(\"文件打开的模式是：\", f.mode)\n",
    "    print(f.closed)\n",
    "\n",
    "print(f.closed)"
   ]
  },
  {
   "cell_type": "markdown",
   "metadata": {},
   "source": [
    "### 从文件中读取内容\n"
   ]
  },
  {
   "cell_type": "code",
   "execution_count": 38,
   "metadata": {},
   "outputs": [
    {
     "name": "stdout",
     "output_type": "stream",
     "text": [
      "(1) This is the first line\n",
      "(2) This is the second line\n",
      "(3) This is the third line\n",
      "(4) This is the fourth line\n",
      "(5) This is the fifth line\n",
      "(6) This is the sixth line\n",
      "(7) This is the seventh line\n",
      "(8) This is the eighth line\n",
      "(9) This is the ninth line\n",
      "(10) This is the tenth line\n"
     ]
    }
   ],
   "source": [
    "with open(\"./temp.txt\", \"r\") as f:\n",
    "    f_content = f.read()\n",
    "    print(f_content)"
   ]
  },
  {
   "cell_type": "markdown",
   "metadata": {},
   "source": [
    "#### 从文件中读取部分内容\n"
   ]
  },
  {
   "cell_type": "code",
   "execution_count": 1,
   "metadata": {},
   "outputs": [
    {
     "name": "stdout",
     "output_type": "stream",
     "text": [
      "['(1) This is the first line\\n', '(2) This is the second line\\n', '(3) This is the third line\\n', '(4) This is the fourth line\\n', '(5) This is the fifth line\\n', '(6) This is the sixth line\\n', '(7) This is the seventh line\\n', '(8) This is the eighth line\\n', '(9) This is the ninth line\\n', '(10) This is the tenth line']\n"
     ]
    }
   ],
   "source": [
    "with open(\"./temp.txt\", \"r\") as f:\n",
    "    f_content = f.readlines()\n",
    "    print(f_content)"
   ]
  },
  {
   "cell_type": "code",
   "execution_count": 2,
   "metadata": {},
   "outputs": [
    {
     "name": "stdout",
     "output_type": "stream",
     "text": [
      "(1) This is the first line\n",
      "\n",
      "(2) This is the second line\n",
      "\n",
      "(3) This is the third line\n",
      "\n"
     ]
    }
   ],
   "source": [
    "with open(\"./temp.txt\", \"r\") as f:\n",
    "    f_content = f.readline()\n",
    "    print(f_content)\n",
    "\n",
    "    f_content = f.readline()\n",
    "    print(f_content)\n",
    "\n",
    "    f_content = f.readline()\n",
    "    print(f_content)"
   ]
  },
  {
   "cell_type": "markdown",
   "metadata": {},
   "source": [
    "#### 遍历文件中的行\n",
    "\n",
    "逐行读取文件内容，而不是一口气将文件加入内存当中\n"
   ]
  },
  {
   "cell_type": "code",
   "execution_count": 41,
   "metadata": {},
   "outputs": [
    {
     "name": "stdout",
     "output_type": "stream",
     "text": [
      "(1) This is the first line\n",
      "\n",
      "(2) This is the second line\n",
      "\n",
      "(3) This is the third line\n",
      "\n",
      "(4) This is the fourth line\n",
      "\n",
      "(5) This is the fifth line\n",
      "\n",
      "(6) This is the sixth line\n",
      "\n",
      "(7) This is the seventh line\n",
      "\n",
      "(8) This is the eighth line\n",
      "\n",
      "(9) This is the ninth line\n",
      "\n",
      "(10) This is the tenth line\n"
     ]
    }
   ],
   "source": [
    "with open(\"./temp.txt\", \"r\") as f:\n",
    "    for line in f:\n",
    "        print(line)"
   ]
  },
  {
   "cell_type": "markdown",
   "metadata": {},
   "source": [
    "指定读取的字符数量，之后再读取会继续上一次的进度进行打印\n"
   ]
  },
  {
   "cell_type": "code",
   "execution_count": 4,
   "metadata": {},
   "outputs": [
    {
     "name": "stdout",
     "output_type": "stream",
     "text": [
      "(1) This is the first line\n",
      "(2) This is the second line\n",
      "(3) This is the third line\n",
      "(4) This is the fo||urth line\n",
      "(5) This is the fifth line\n",
      "(6) This is the sixth line\n",
      "(7) This is the seventh line\n",
      "(8) Thi||s is the eighth line\n",
      "(9) This is the ninth line\n",
      "(10) This is the tenth line||如果文件内容已经读完会返回空字符\n",
      "||"
     ]
    }
   ],
   "source": [
    "with open(\"./temp.txt\", \"r\") as f:\n",
    "    f_content = f.read(100)\n",
    "    print(f_content, end=\"||\")\n",
    "\n",
    "    f_content = f.read(100)\n",
    "    print(f_content, end=\"||\")\n",
    "\n",
    "    f_content = f.read(100)\n",
    "    print(f_content, end=\"||\")\n",
    "\n",
    "    print(\"如果文件内容已经读完会返回空字符\")\n",
    "\n",
    "    f_content = f.read(100)\n",
    "    print(f_content, end=\"||\")"
   ]
  },
  {
   "cell_type": "code",
   "execution_count": 44,
   "metadata": {},
   "outputs": [
    {
     "name": "stdout",
     "output_type": "stream",
     "text": [
      "(1) This i*s the firs*t line\n",
      "(2)* This is t*he second *line\n",
      "(3) T*his is the* third lin*e\n",
      "(4) This* is the fo*urth line\n",
      "*(5) This i*s the fift*h line\n",
      "(6)* This is t*he sixth l*ine\n",
      "(7) Th*is is the *seventh li*ne\n",
      "(8) Thi*s is the e*ighth line*\n",
      "(9) This *is the nin*th line\n",
      "(1*0) This is* the tenth* line*"
     ]
    }
   ],
   "source": [
    "with open(\"./temp.txt\", \"r\") as f:\n",
    "    f_content = f.read(10)\n",
    "\n",
    "    while len(f_content) > 0:\n",
    "        print(f_content, end=\"*\")\n",
    "        f_content = f.read(10)"
   ]
  },
  {
   "cell_type": "code",
   "execution_count": 5,
   "metadata": {},
   "outputs": [
    {
     "name": "stdout",
     "output_type": "stream",
     "text": [
      "with open(\"./temp.txt\") as rf:\n",
      "    with open(\"./temp_copy.txt\") as wf:\n",
      "        for line in rf:\n",
      "            wf.write(line)\n",
      "\n"
     ]
    }
   ],
   "source": [
    "# 读取不同类型的文件当然是允许的\n",
    "with open(\"./tutorial.py\", \"r\") as f:\n",
    "    f_content = f.read()\n",
    "    print(f_content)"
   ]
  },
  {
   "cell_type": "markdown",
   "metadata": {},
   "source": [
    "得知当前读取位置并跳转位置\n"
   ]
  },
  {
   "cell_type": "code",
   "execution_count": 53,
   "metadata": {},
   "outputs": [
    {
     "name": "stdout",
     "output_type": "stream",
     "text": [
      "(1) This i\n",
      "10\n",
      "(1) This i\n",
      "10\n"
     ]
    }
   ],
   "source": [
    "with open(\"./temp.txt\", \"r\") as f:\n",
    "    char_read = 10\n",
    "    f_content = f.read(char_read)\n",
    "    print(f_content)\n",
    "    print(f.tell())\n",
    "    f.seek(0)  # 回到文件开头位置，而不是继续读\n",
    "    f_content = f.read(char_read)\n",
    "    print(f_content)\n",
    "    print(f.tell())"
   ]
  },
  {
   "cell_type": "markdown",
   "metadata": {},
   "source": [
    "### 写入文件\n"
   ]
  },
  {
   "cell_type": "code",
   "execution_count": 12,
   "metadata": {},
   "outputs": [],
   "source": [
    "with open(\"./new.txt\", \"w\") as f:\n",
    "    f.write(\"Nice to meet python\\n\")\n",
    "    f.write(\"Nice to meet python 2\\n\")"
   ]
  },
  {
   "cell_type": "code",
   "execution_count": 13,
   "metadata": {},
   "outputs": [],
   "source": [
    "# 插入内容，而不是重写\n",
    "with open(\"./new.txt\", \"a\") as f:\n",
    "    f.write(\"Nice to meet python 3\\n\")"
   ]
  },
  {
   "cell_type": "code",
   "execution_count": 11,
   "metadata": {},
   "outputs": [],
   "source": [
    "with open(\"./new.txt\", \"w\") as f:\n",
    "    f.write(\"Nice to meet python 111\\n\")\n",
    "    f.seek(0)  # 将书写位置重新转化为开头，这将会取缔原位置的内容\n",
    "    f.write(\"Nice to meet python 2\\n\")"
   ]
  },
  {
   "cell_type": "markdown",
   "metadata": {},
   "source": [
    "### 同时打开多个文件，并实现文件复制的效果\n"
   ]
  },
  {
   "cell_type": "code",
   "execution_count": 67,
   "metadata": {},
   "outputs": [],
   "source": [
    "with open(\"./temp.txt\", \"r\") as rf:\n",
    "    with open(\"temp_copy.txt\", \"w\") as wf:\n",
    "        for line in rf:\n",
    "            wf.write(\n",
    "                line\n",
    "            )  # 只要这个文件流没有被关闭，那么新的内容就会自动写在文末而不是新增"
   ]
  },
  {
   "cell_type": "markdown",
   "metadata": {},
   "source": [
    "#### 复制图片文件\n"
   ]
  },
  {
   "cell_type": "code",
   "execution_count": 69,
   "metadata": {},
   "outputs": [],
   "source": [
    "# utf-8 的解码形式只能解读大部分的文本信息，对于图片信息或者其他信息，我们可以使用原始的二进制读取\n",
    "with open(\"./dataguardian.jpg\", \"rb\") as rf:\n",
    "    with open(\"./dataguardian_copy.jpg\", \"wb\") as wf:\n",
    "        for line in rf:\n",
    "            wf.write(line)"
   ]
  },
  {
   "cell_type": "markdown",
   "metadata": {},
   "source": [
    "部分读取文件，避免内存溢出\n"
   ]
  },
  {
   "cell_type": "code",
   "execution_count": 14,
   "metadata": {},
   "outputs": [
    {
     "name": "stdout",
     "output_type": "stream",
     "text": [
      "复制完成\n"
     ]
    }
   ],
   "source": [
    "with open(\"./dataguardian.jpg\", \"rb\") as rf:\n",
    "    with open(\"./dataguardian_copy3.jpg\", \"wb\") as wf:\n",
    "        chunk_size = 4068\n",
    "        rf_chunk = rf.read(chunk_size)\n",
    "        while len(rf_chunk) > 0:\n",
    "            wf.write(rf_chunk)\n",
    "            rf_chunk = rf.read(chunk_size)\n",
    "        print(\"复制完成\")"
   ]
  }
 ],
 "metadata": {
  "kernelspec": {
   "display_name": "Python311",
   "language": "python",
   "name": "python3"
  },
  "language_info": {
   "codemirror_mode": {
    "name": "ipython",
    "version": 3
   },
   "file_extension": ".py",
   "mimetype": "text/x-python",
   "name": "python",
   "nbconvert_exporter": "python",
   "pygments_lexer": "ipython3",
   "version": "3.11.8"
  }
 },
 "nbformat": 4,
 "nbformat_minor": 2
}
