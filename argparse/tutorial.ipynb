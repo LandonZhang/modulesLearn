{
 "cells": [
  {
   "cell_type": "code",
   "execution_count": 2,
   "metadata": {},
   "outputs": [
    {
     "name": "stdout",
     "output_type": "stream",
     "text": [
      "x is equal to y. \n",
      "x & y value is: (32,32)\n"
     ]
    }
   ],
   "source": [
    "x = (32, 32)\n",
    "\n",
    "match x:\n",
    "    case (x, y) if x == y:\n",
    "        print(f\"x is equal to y. \\nx & y value is: ({x},{y})\")\n",
    "    case (x, y):\n",
    "        print(f\"x & y value is: ({x},{y})\")"
   ]
  }
 ],
 "metadata": {
  "kernelspec": {
   "display_name": "python312",
   "language": "python",
   "name": "python3"
  },
  "language_info": {
   "codemirror_mode": {
    "name": "ipython",
    "version": 3
   },
   "file_extension": ".py",
   "mimetype": "text/x-python",
   "name": "python",
   "nbconvert_exporter": "python",
   "pygments_lexer": "ipython3",
   "version": "3.12.11"
  }
 },
 "nbformat": 4,
 "nbformat_minor": 2
}
