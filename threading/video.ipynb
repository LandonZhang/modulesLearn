{
 "cells": [
  {
   "cell_type": "code",
   "execution_count": 1,
   "metadata": {},
   "outputs": [
    {
     "name": "stdout",
     "output_type": "stream",
     "text": [
      "1\n",
      "2\n",
      "3\n",
      "4\n"
     ]
    },
    {
     "ename": "KeyboardInterrupt",
     "evalue": "",
     "output_type": "error",
     "traceback": [
      "\u001b[1;31m---------------------------------------------------------------------------\u001b[0m",
      "\u001b[1;31mKeyboardInterrupt\u001b[0m                         Traceback (most recent call last)",
      "Cell \u001b[1;32mIn[1], line 17\u001b[0m\n\u001b[0;32m     13\u001b[0m         \u001b[38;5;28mprint\u001b[39m(counter)\n\u001b[0;32m     16\u001b[0m \u001b[38;5;66;03m# 不启用多线程，无法达到退出的效果\u001b[39;00m\n\u001b[1;32m---> 17\u001b[0m work()\n\u001b[0;32m     19\u001b[0m \u001b[38;5;28minput\u001b[39m(\u001b[38;5;124m\"\u001b[39m\u001b[38;5;124mPlease enter something to quit\u001b[39m\u001b[38;5;124m\"\u001b[39m)\n\u001b[0;32m     20\u001b[0m DONE \u001b[38;5;241m=\u001b[39m \u001b[38;5;28;01mTrue\u001b[39;00m\n",
      "Cell \u001b[1;32mIn[1], line 12\u001b[0m, in \u001b[0;36mwork\u001b[1;34m()\u001b[0m\n\u001b[0;32m     10\u001b[0m \u001b[38;5;28;01mwhile\u001b[39;00m \u001b[38;5;129;01mnot\u001b[39;00m DONE:\n\u001b[0;32m     11\u001b[0m     counter \u001b[38;5;241m+\u001b[39m\u001b[38;5;241m=\u001b[39m \u001b[38;5;241m1\u001b[39m\n\u001b[1;32m---> 12\u001b[0m     time\u001b[38;5;241m.\u001b[39msleep(\u001b[38;5;241m1\u001b[39m)\n\u001b[0;32m     13\u001b[0m     \u001b[38;5;28mprint\u001b[39m(counter)\n",
      "\u001b[1;31mKeyboardInterrupt\u001b[0m: "
     ]
    }
   ],
   "source": [
    "from threading import Thread\n",
    "import time\n",
    "\n",
    "DONE = False\n",
    "counter = 0\n",
    "\n",
    "\n",
    "def work():\n",
    "    global counter, DONE\n",
    "    while not DONE:\n",
    "        counter += 1\n",
    "        time.sleep(1)\n",
    "        print(counter)\n",
    "\n",
    "\n",
    "# 不启用多线程，无法达到退出的效果\n",
    "work()\n",
    "\n",
    "input(\"Please enter something to quit\")\n",
    "DONE = True"
   ]
  },
  {
   "cell_type": "code",
   "execution_count": 1,
   "metadata": {},
   "outputs": [
    {
     "name": "stdout",
     "output_type": "stream",
     "text": [
      "1\n",
      "2\n",
      "3\n",
      "4\n",
      "5\n",
      "6\n"
     ]
    },
    {
     "name": "stdout",
     "output_type": "stream",
     "text": [
      "7\n"
     ]
    }
   ],
   "source": [
    "from threading import Thread\n",
    "import time\n",
    "\n",
    "DONE = False\n",
    "counter = 0\n",
    "\n",
    "\n",
    "def work():\n",
    "    global counter, DONE\n",
    "    while not DONE:\n",
    "        counter += 1\n",
    "        time.sleep(1)\n",
    "        print(counter)\n",
    "\n",
    "\n",
    "# 启动一个单独的线程\n",
    "Thread(target=work).start()\n",
    "input(\"Please enter something to quit\")\n",
    "DONE = True"
   ]
  },
  {
   "cell_type": "code",
   "execution_count": 3,
   "metadata": {},
   "outputs": [
    {
     "name": "stdout",
     "output_type": "stream",
     "text": [
      "ABC : 2\n",
      "XYZ : 3\n",
      "ABC : 4\n",
      "XYZ : 5\n"
     ]
    },
    {
     "name": "stdout",
     "output_type": "stream",
     "text": [
      "ABC : 6\n",
      "XYZ : 6\n"
     ]
    }
   ],
   "source": [
    "from threading import Thread\n",
    "import time\n",
    "\n",
    "DONE = False\n",
    "counter = 0\n",
    "\n",
    "\n",
    "def work(arg: str):\n",
    "    global counter, DONE\n",
    "    while not DONE:\n",
    "        counter += 1\n",
    "        time.sleep(1)\n",
    "        print(f\"{arg} : {counter}\")\n",
    "\n",
    "\n",
    "# 使用 args 进行传参\n",
    "Thread(target=work, args=(\"ABC\",)).start()\n",
    "Thread(target=work, args=(\"XYZ\",)).start()\n",
    "\n",
    "input(\"Please enter something to quit\")\n",
    "DONE = True"
   ]
  },
  {
   "cell_type": "code",
   "execution_count": 2,
   "metadata": {},
   "outputs": [
    {
     "name": "stdout",
     "output_type": "stream",
     "text": [
      "ABC : 1\n",
      "ABC : 2\n"
     ]
    },
    {
     "name": "stdout",
     "output_type": "stream",
     "text": [
      "ABC : 3\n",
      "ABC : 4\n",
      "ABC : 5\n",
      "ABC : 6\n",
      "ABC : 7\n",
      "ABC : 8\n",
      "ABC : 9\n",
      "ABC : 10\n",
      "ABC : 11\n",
      "ABC : 12\n",
      "ABC : 13\n",
      "ABC : 14\n",
      "ABC : 15\n",
      "ABC : 16\n",
      "ABC : 17\n",
      "ABC : 18\n",
      "ABC : 19\n",
      "ABC : 20\n",
      "ABC : 21\n",
      "ABC : 22\n",
      "ABC : 23\n",
      "ABC : 24\n",
      "ABC : 25\n",
      "ABC : 26\n"
     ]
    }
   ],
   "source": [
    "from threading import Thread\n",
    "import time\n",
    "\n",
    "DONE = False\n",
    "counter = 0\n",
    "\n",
    "\n",
    "# 使用 daemon 创建守护进程 (当重要进程停止时，守护进程自动关闭)\n",
    "def work(arg: str):\n",
    "    global counter\n",
    "    while True:\n",
    "        counter += 1\n",
    "        time.sleep(1)\n",
    "        print(f\"{arg} : {counter}\")\n",
    "\n",
    "\n",
    "Thread(target=work, daemon=True, args=(\"ABC\",)).start()\n",
    "input(\"Please enter something to quit\")\n",
    "DONE = True"
   ]
  },
  {
   "cell_type": "code",
   "execution_count": null,
   "metadata": {},
   "outputs": [],
   "source": [
    "from threading import Thread\n",
    "import time\n",
    "\n",
    "DONE = False\n",
    "counter = 0\n",
    "\n",
    "\n",
    "def work(arg: str):\n",
    "    global counter, DONE\n",
    "    while not DONE:\n",
    "        counter += 1\n",
    "        time.sleep(1)\n",
    "        print(f\"{arg} : {counter}\")\n",
    "\n",
    "\n",
    "# 使用 join 函数来控制当线程完成时才进行到下一部\n",
    "t1 = Thread(target=work, args=(\"ABC\",))\n",
    "t2 = Thread(target=work, args=(\"XYZ\",))\n",
    "\n",
    "t1.start()\n",
    "t2.start()\n",
    "\n",
    "t1.join()\n",
    "t2.join()\n",
    "\n",
    "input(\"Please enter something to quit\")\n",
    "DONE = True"
   ]
  },
  {
   "cell_type": "code",
   "execution_count": null,
   "metadata": {},
   "outputs": [],
   "source": [
    "from threading import Thread\n",
    "import time\n",
    "\n",
    "DONE = False\n",
    "counter = 0\n",
    "\n",
    "\n",
    "def work(arg: str):\n",
    "    global counter, DONE\n",
    "    while not DONE:\n",
    "        counter += 1\n",
    "        time.sleep(1)\n",
    "        print(f\"{arg} : {counter}\")\n",
    "\n",
    "\n",
    "# 使用 join 函数来控制当线程完成时才进行到下一部\n",
    "t1 = Thread(target=work, args=(\"ABC\",))\n",
    "t2 = Thread(target=work, args=(\"XYZ\",))\n",
    "\n",
    "t1.start()\n",
    "t1.join()\n",
    "\n",
    "t2.start()\n",
    "t2.join()\n",
    "\n",
    "\n",
    "input(\"Please enter something to quit\")\n",
    "DONE = True"
   ]
  }
 ],
 "metadata": {
  "kernelspec": {
   "display_name": "Python311",
   "language": "python",
   "name": "python3"
  },
  "language_info": {
   "codemirror_mode": {
    "name": "ipython",
    "version": 3
   },
   "file_extension": ".py",
   "mimetype": "text/x-python",
   "name": "python",
   "nbconvert_exporter": "python",
   "pygments_lexer": "ipython3",
   "version": "3.11.8"
  }
 },
 "nbformat": 4,
 "nbformat_minor": 2
}
