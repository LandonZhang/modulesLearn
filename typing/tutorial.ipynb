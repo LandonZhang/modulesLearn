{
 "cells": [
  {
   "cell_type": "markdown",
   "metadata": {},
   "source": [
    "`TypeAlias` & `Literal`\n",
    "\n",
    "1. 可自定义类型别名\n",
    "2. 可自定义字面量，确保用户在有限的选择中进行选择，否则出错\n"
   ]
  },
  {
   "cell_type": "code",
   "execution_count": 2,
   "metadata": {},
   "outputs": [
    {
     "name": "stdout",
     "output_type": "stream",
     "text": [
      "The content in file is: This is one sentence.\n"
     ]
    }
   ],
   "source": [
    "from typing import TypeAlias, Literal\n",
    "\n",
    "# 定义一个新类型叫做 Mode, 结合 Literal 来定义可以采取的文件读取模式\n",
    "Mode: TypeAlias = Literal[\"w\", \"r\"]\n",
    "\n",
    "\n",
    "def deal_file(file_path: str, mode: Mode):\n",
    "    with open(file_path, mode) as f:\n",
    "        content = f.read()\n",
    "    print(f\"The content in file is: {content}\")\n",
    "\n",
    "\n",
    "FILE_PATH = \"temp.txt\"\n",
    "# deal_file(FILE_PATH, \"rb\")  # 如果填写非字面量中的值编辑器会报错\n",
    "deal_file(FILE_PATH, \"r\")"
   ]
  },
  {
   "cell_type": "markdown",
   "metadata": {},
   "source": [
    "对于字典数据类型，我们有时候希望定义其中的应该有的字段和值类型。这时就可以使用 `TypeDict`\n",
    "\n",
    "默认值都是必须的，如果有些值可以不要，需要设置 NotRequired\n"
   ]
  },
  {
   "cell_type": "code",
   "execution_count": 5,
   "metadata": {},
   "outputs": [
    {
     "name": "stdout",
     "output_type": "stream",
     "text": [
      "{'name': 'zzzongzii', 'story': 'never give up'}\n"
     ]
    }
   ],
   "source": [
    "from typing import TypedDict, NotRequired\n",
    "\n",
    "\n",
    "class Hero(TypedDict):\n",
    "    name: str\n",
    "    story: str\n",
    "    girl_friend: NotRequired[str]\n",
    "\n",
    "\n",
    "# zzzongzii: Hero = {\"name\": \"zzzongzii\"}  # 如果填写的字段少了，代码编辑器会报错\n",
    "zzzongzii: Hero = {\"name\": \"zzzongzii\", \"story\": \"never give up\"}\n",
    "\n",
    "print(zzzongzii)"
   ]
  },
  {
   "cell_type": "markdown",
   "metadata": {},
   "source": [
    "表示列表、元组这种有序类型使用： `Sequence`\n"
   ]
  },
  {
   "cell_type": "code",
   "execution_count": 9,
   "metadata": {},
   "outputs": [
    {
     "name": "stdout",
     "output_type": "stream",
     "text": [
      "6\n"
     ]
    }
   ],
   "source": [
    "from typing import Sequence\n",
    "\n",
    "\n",
    "def add_sequence(object: Sequence[int]) -> int:\n",
    "    result = 0\n",
    "    for i in object:\n",
    "        result += i\n",
    "    return result\n",
    "\n",
    "\n",
    "# object = [1, 2, 3]\n",
    "object = (1, 2, 3)\n",
    "print(add_sequence(object))"
   ]
  },
  {
   "cell_type": "code",
   "execution_count": 10,
   "metadata": {},
   "outputs": [],
   "source": [
    "from typing import List, Union\n",
    "\n",
    "\n",
    "def sum_numbers(numbers: List[Union[int, str]]) -> int:\n",
    "    result: int = 0\n",
    "    for number in numbers:\n",
    "        if isinstance(number, str):\n",
    "            number = int(number)\n",
    "        result += number\n",
    "    return result\n",
    "\n",
    "\n",
    "result = sum_numbers([1, 2, \"3\"])  # 正确\n",
    "# sum_numbers([\"1\", \"2\", \"3\"])  # 类型检查工具会报错\n"
   ]
  },
  {
   "cell_type": "code",
   "execution_count": null,
   "metadata": {},
   "outputs": [
    {
     "name": "stderr",
     "output_type": "stream",
     "text": [
      "NoneType: None\n"
     ]
    },
    {
     "ename": "Exception",
     "evalue": "Something went wrong",
     "output_type": "error",
     "traceback": [
      "\u001b[0;31m---------------------------------------------------------------------------\u001b[0m",
      "\u001b[0;31mException\u001b[0m                                 Traceback (most recent call last)",
      "Cell \u001b[0;32mIn[13], line 10\u001b[0m\n\u001b[1;32m      6\u001b[0m     \u001b[38;5;28;01mraise\u001b[39;00m \u001b[38;5;167;01mException\u001b[39;00m(\u001b[38;5;124m\"\u001b[39m\u001b[38;5;124mSomething went wrong\u001b[39m\u001b[38;5;124m\"\u001b[39m)\n\u001b[1;32m      9\u001b[0m traceback\u001b[38;5;241m.\u001b[39mprint_exc()\n\u001b[0;32m---> 10\u001b[0m f(\u001b[38;5;241m1\u001b[39m)\n\u001b[1;32m     11\u001b[0m \u001b[38;5;28mprint\u001b[39m(\u001b[38;5;124m\"\u001b[39m\u001b[38;5;124mThis line is useless\u001b[39m\u001b[38;5;124m\"\u001b[39m)\n",
      "Cell \u001b[0;32mIn[13], line 6\u001b[0m, in \u001b[0;36mf\u001b[0;34m(a)\u001b[0m\n\u001b[1;32m      5\u001b[0m \u001b[38;5;28;01mdef\u001b[39;00m \u001b[38;5;21mf\u001b[39m(a: \u001b[38;5;28mint\u001b[39m) \u001b[38;5;241m-\u001b[39m\u001b[38;5;241m>\u001b[39m NoReturn:\n\u001b[0;32m----> 6\u001b[0m     \u001b[38;5;28;01mraise\u001b[39;00m \u001b[38;5;167;01mException\u001b[39;00m(\u001b[38;5;124m\"\u001b[39m\u001b[38;5;124mSomething went wrong\u001b[39m\u001b[38;5;124m\"\u001b[39m)\n",
      "\u001b[0;31mException\u001b[0m: Something went wrong"
     ]
    }
   ],
   "source": [
    "from typing import NoReturn\n",
    "import traceback\n",
    "\n",
    "\n",
    "def f(a: int) -> NoReturn:\n",
    "    raise Exception(\"Something went wrong\")\n",
    "\n",
    "\n",
    "# traceback.print_exc()  # 打印详细报错信息\n",
    "f(1)\n",
    "print(\"This line is useless\")\n"
   ]
  },
  {
   "cell_type": "markdown",
   "metadata": {},
   "source": [
    "`Callable` 可以定义函数的接受参数类型与返回参数类型\n"
   ]
  },
  {
   "cell_type": "code",
   "execution_count": 15,
   "metadata": {},
   "outputs": [
    {
     "name": "stdout",
     "output_type": "stream",
     "text": [
      "argument is: 1 & 2\n",
      "result is: 3\n"
     ]
    }
   ],
   "source": [
    "# 假设我们要实现一个装饰器打印输入的参数和输出的结果，中间的关键函数只是将两个数相加\n",
    "from typing import Callable\n",
    "\n",
    "\n",
    "def debugger(fun: Callable[[int, int], int]):\n",
    "    def wrapper(a: int, b: int) -> None:\n",
    "        print(f\"argument is: {a} & {b}\")\n",
    "        result = fun(a, b)\n",
    "        print(f\"result is: {result}\")\n",
    "\n",
    "    return wrapper\n",
    "\n",
    "\n",
    "@debugger\n",
    "def fun(a: int, b: int) -> int:\n",
    "    return a + b\n",
    "\n",
    "\n",
    "fun(1, 2)"
   ]
  },
  {
   "cell_type": "markdown",
   "metadata": {},
   "source": [
    "使用枚举类型是更常见的一种限定输入的方式。如果不符合预设会直接报错\n"
   ]
  },
  {
   "cell_type": "code",
   "execution_count": 20,
   "metadata": {},
   "outputs": [
    {
     "name": "stdout",
     "output_type": "stream",
     "text": [
      "Color.RED\n",
      "RED\n",
      "1\n",
      "True\n",
      "False\n",
      "所有颜色:\n",
      "RED: 1\n",
      "GREEN: 2\n",
      "BLUE: 3\n"
     ]
    },
    {
     "ename": "AttributeError",
     "evalue": "type object 'OrderStatus' has no attribute 'NotPaid'",
     "output_type": "error",
     "traceback": [
      "\u001b[0;31m---------------------------------------------------------------------------\u001b[0m",
      "\u001b[0;31mAttributeError\u001b[0m                            Traceback (most recent call last)",
      "Cell \u001b[0;32mIn[20], line 59\u001b[0m\n\u001b[1;32m     55\u001b[0m         \u001b[38;5;28;01mreturn\u001b[39;00m \u001b[38;5;124m\"\u001b[39m\u001b[38;5;124m订单已取消\u001b[39m\u001b[38;5;124m\"\u001b[39m\n\u001b[1;32m     58\u001b[0m \u001b[38;5;66;03m# 测试订单状态处理\u001b[39;00m\n\u001b[0;32m---> 59\u001b[0m current_status \u001b[38;5;241m=\u001b[39m OrderStatus\u001b[38;5;241m.\u001b[39mNotPaid\n\u001b[1;32m     60\u001b[0m \u001b[38;5;28mprint\u001b[39m(\u001b[38;5;124mf\u001b[39m\u001b[38;5;124m\"\u001b[39m\u001b[38;5;124m当前状态: \u001b[39m\u001b[38;5;132;01m{\u001b[39;00mcurrent_status\u001b[38;5;241m.\u001b[39mvalue\u001b[38;5;132;01m}\u001b[39;00m\u001b[38;5;124m\"\u001b[39m)\n\u001b[1;32m     61\u001b[0m \u001b[38;5;28mprint\u001b[39m(\u001b[38;5;124mf\u001b[39m\u001b[38;5;124m\"\u001b[39m\u001b[38;5;124m处理结果: \u001b[39m\u001b[38;5;132;01m{\u001b[39;00mprocess_order(current_status)\u001b[38;5;132;01m}\u001b[39;00m\u001b[38;5;124m\"\u001b[39m)\n",
      "\u001b[0;31mAttributeError\u001b[0m: type object 'OrderStatus' has no attribute 'NotPaid'"
     ]
    }
   ],
   "source": [
    "# Enum 枚举类型的使用示例\n",
    "from enum import Enum, auto\n",
    "\n",
    "\n",
    "# 定义一个颜色枚举\n",
    "class Color(Enum):\n",
    "    RED = 1\n",
    "    GREEN = 2\n",
    "    BLUE = 3\n",
    "\n",
    "\n",
    "# 定义一个状态枚举，使用 auto() 自动分配选项唯一值\n",
    "class Status(Enum):\n",
    "    PENDING = auto()\n",
    "    RUNNING = auto()\n",
    "    COMPLETED = auto()\n",
    "    FAILED = auto()\n",
    "\n",
    "\n",
    "# 基本使用\n",
    "print(Color.RED)  # Color.RED\n",
    "print(Color.RED.name)  # RED\n",
    "print(Color.RED.value)  # 1\n",
    "\n",
    "# 枚举比较\n",
    "print(Color.RED == Color.RED)  # True\n",
    "print(Color.RED == Color.BLUE)  # False\n",
    "\n",
    "# 遍历枚举\n",
    "print(\"所有颜色:\")\n",
    "for color in Color:\n",
    "    print(f\"{color.name}: {color.value}\")\n",
    "\n",
    "\n",
    "# 实际应用：订单状态管理\n",
    "class OrderStatus(Enum):\n",
    "    CREATED = \"已创建\"\n",
    "    PAID = \"已支付\"\n",
    "    SHIPPED = \"已发货\"\n",
    "    DELIVERED = \"已送达\"\n",
    "    CANCELLED = \"已取消\"\n",
    "\n",
    "\n",
    "def process_order(status: OrderStatus) -> str:\n",
    "    \"\"\"根据订单状态返回相应的处理信息\"\"\"\n",
    "    if status == OrderStatus.CREATED:\n",
    "        return \"订单已创建，等待支付\"\n",
    "    elif status == OrderStatus.PAID:\n",
    "        return \"订单已支付，准备发货\"\n",
    "    elif status == OrderStatus.SHIPPED:\n",
    "        return \"订单已发货，正在配送中\"\n",
    "    elif status == OrderStatus.DELIVERED:\n",
    "        return \"订单已送达，交易完成\"\n",
    "    else:\n",
    "        return \"订单已取消\"\n",
    "\n",
    "\n",
    "# 测试订单状态处理\n",
    "current_status = OrderStatus.PAID\n",
    "print(f\"当前状态: {current_status.value}\")\n",
    "print(f\"处理结果: {process_order(current_status)}\")\n",
    "\n",
    "# 枚举的好处：类型安全，IDE 可以提供自动补全\n",
    "# 避免使用魔法字符串或数字，提高代码可读性和维护性\n"
   ]
  }
 ],
 "metadata": {
  "kernelspec": {
   "display_name": "base",
   "language": "python",
   "name": "python3"
  },
  "language_info": {
   "codemirror_mode": {
    "name": "ipython",
    "version": 3
   },
   "file_extension": ".py",
   "mimetype": "text/x-python",
   "name": "python",
   "nbconvert_exporter": "python",
   "pygments_lexer": "ipython3",
   "version": "3.12.7"
  }
 },
 "nbformat": 4,
 "nbformat_minor": 2
}
