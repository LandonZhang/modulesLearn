{
 "cells": [
  {
   "cell_type": "markdown",
   "metadata": {},
   "source": [
    "使用 glob 搜索，与使用 rglob 搜索的区别\n"
   ]
  },
  {
   "cell_type": "code",
   "execution_count": 11,
   "metadata": {},
   "outputs": [
    {
     "name": "stdout",
     "output_type": "stream",
     "text": [
      "greeting.txt\n",
      "----------------------我是分割线-----------------------\n",
      "greeting.txt\n",
      "child.txt\n"
     ]
    }
   ],
   "source": [
    "from pathlib import Path\n",
    "\n",
    "target_dir = Path()\n",
    "line = \"我是分割线\"\n",
    "\n",
    "\n",
    "for i in target_dir.glob(\"*.txt\"):\n",
    "    print(i.name)\n",
    "\n",
    "print(f\"{line:-^50}\")\n",
    "\n",
    "for i in target_dir.rglob(\"*.txt\"):\n",
    "    print(i.name)"
   ]
  },
  {
   "cell_type": "markdown",
   "metadata": {},
   "source": [
    "Path 可以通过 `write_text` 的方式撰写内容到文件；`read_text` 的方式读取内容\n",
    "\n",
    "使用 `rename` 或者 `replace` 方法移动文件\n",
    "\n",
    "- `rename` 发现目标路径存在同名文件会报错；`replace` 会直接执行替换\n"
   ]
  },
  {
   "cell_type": "code",
   "execution_count": 3,
   "metadata": {},
   "outputs": [
    {
     "name": "stdout",
     "output_type": "stream",
     "text": [
      "File has been created\n",
      "This is a file that need to be removed.\n"
     ]
    }
   ],
   "source": [
    "from pathlib import Path\n",
    "\n",
    "old_txt = Path() / \"old_txt.txt\"\n",
    "\n",
    "if old_txt.exists():\n",
    "    print(old_txt.read_text())\n",
    "else:\n",
    "    old_txt.touch()\n",
    "    print(\"File has been created\")\n",
    "    old_txt.write_text(\"This is a file that need to be removed.\")\n",
    "    print(old_txt.read_text())"
   ]
  },
  {
   "cell_type": "code",
   "execution_count": 4,
   "metadata": {},
   "outputs": [
    {
     "name": "stdout",
     "output_type": "stream",
     "text": [
      "file has been removed\n"
     ]
    }
   ],
   "source": [
    "new_txt = Path() / \"child_dir\" / \"new_txt.txt\"\n",
    "\n",
    "old_txt.replace(new_txt)\n",
    "print(f\"file has been removed\")"
   ]
  },
  {
   "cell_type": "markdown",
   "metadata": {},
   "source": [
    "使用 shutil.copy() 复制文件到另外地址\n"
   ]
  },
  {
   "cell_type": "code",
   "execution_count": 5,
   "metadata": {},
   "outputs": [
    {
     "name": "stdout",
     "output_type": "stream",
     "text": [
      "Copy action has been completed\n"
     ]
    }
   ],
   "source": [
    "# 复制新文件到原路径，并修改名称为 old_txt.txt\n",
    "import shutil\n",
    "\n",
    "shutil.copy(new_txt.resolve(), old_txt.resolve())\n",
    "print(\"Copy action has been completed\")"
   ]
  }
 ],
 "metadata": {
  "kernelspec": {
   "display_name": "base",
   "language": "python",
   "name": "python3"
  },
  "language_info": {
   "codemirror_mode": {
    "name": "ipython",
    "version": 3
   },
   "file_extension": ".py",
   "mimetype": "text/x-python",
   "name": "python",
   "nbconvert_exporter": "python",
   "pygments_lexer": "ipython3",
   "version": "3.12.7"
  }
 },
 "nbformat": 4,
 "nbformat_minor": 2
}
