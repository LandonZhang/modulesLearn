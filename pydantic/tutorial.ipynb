{
 "cells": [
  {
   "cell_type": "markdown",
   "id": "cb5ec4c7",
   "metadata": {},
   "source": [
    "在处理数据类型验证的时候，一个现代更常用的库是 pydantic 而不是 dataclass。\n",
    "\n",
    "- pydantic 可以提供更加高级和严格的数据验证工作：数据类型不对时直接报错，而不是像 dataclass 那样只是 IDE 警告\n",
    "- pydantic 对现代的 JSON 集成更加友好，可以直接将对象转化为 JSON 数据，或者将 JSON 形式数据转化为 pydantic 对象，或者将 JSON 数据转化为正常的 python 字典\n",
    "- pydantic 可以通过 validator 装饰器自定义对于字段的验证方式\n",
    "- pydantic 通过 Field 可以对数据进行更加详尽的限制和描述，使得和很多后端框架结合很好\n"
   ]
  },
  {
   "cell_type": "markdown",
   "id": "b2c99e88",
   "metadata": {},
   "source": [
    "像 pydantic 和 dataclass 这样的数据验证类，基本都重写了 \\_\\_init\\_\\_ 方法，虽然看起来定义的是类属性的数据类型，但是实际上实例化对象的时候，就是按照这样的数据类型要求的\n",
    "\n",
    "由于重写了 \\_\\_init\\_\\_ 方法，所以 pydantic 对实例化时要求必须使用“命名参数”，不能用位置参数来传字段值。并且 pydantic 也重写了 \\_\\_str\\_\\_ 方法，使得打印出来的数据更有意义\n"
   ]
  },
  {
   "cell_type": "code",
   "execution_count": 20,
   "id": "737c64a7",
   "metadata": {},
   "outputs": [
    {
     "name": "stdout",
     "output_type": "stream",
     "text": [
      "name='zzzongzii' age=21 game_like=['Elden Ring', 'Sekiro', 'Dark Soul III']\n",
      "['Elden Ring', 'Sekiro', 'Dark Soul III']\n"
     ]
    }
   ],
   "source": [
    "from pydantic import BaseModel\n",
    "\n",
    "\n",
    "class Person(BaseModel):\n",
    "    name: str\n",
    "    age: int\n",
    "    game_like: list[str]\n",
    "\n",
    "\n",
    "zzzongzii: Person = Person(\n",
    "    name=\"zzzongzii\", age=21, game_like=[\"Elden Ring\", \"Sekiro\", \"Dark Soul III\"]\n",
    ")\n",
    "print(zzzongzii)\n",
    "\n",
    "# 获得一个属性\n",
    "print(zzzongzii.game_like)"
   ]
  },
  {
   "cell_type": "code",
   "execution_count": 10,
   "id": "7f3d3e74",
   "metadata": {},
   "outputs": [
    {
     "name": "stdout",
     "output_type": "stream",
     "text": [
      "name='zzzongzii' age=49\n"
     ]
    }
   ],
   "source": [
    "# Field 关键字定义一些范围要求和基本的描述配合后端框架显示\n",
    "from pydantic import BaseModel, Field\n",
    "\n",
    "\n",
    "class Person(BaseModel):\n",
    "    # ellipsis 表明这个字段必填, examples 可以配合前端显示填写案例\n",
    "    name: str = Field(..., description=\"This is person's name\", examples=[\"zzzongzii\"])\n",
    "    age: int = Field(default=18, le=50, ge=18, description=\"This is person's age\")\n",
    "\n",
    "\n",
    "zzzongzii: Person = Person(name=\"zzzongzii\", age=49)\n",
    "print(zzzongzii)"
   ]
  },
  {
   "cell_type": "code",
   "execution_count": 18,
   "id": "2b31dff6",
   "metadata": {},
   "outputs": [
    {
     "name": "stdout",
     "output_type": "stream",
     "text": [
      "name='zzzongzii' email='123@123.com'\n"
     ]
    }
   ],
   "source": [
    "# pydantic 内置了一些数据验证类型\n",
    "from pydantic import EmailStr, BaseModel\n",
    "\n",
    "\n",
    "class Person(BaseModel):\n",
    "    name: str\n",
    "    email: EmailStr\n",
    "\n",
    "\n",
    "zzzongzii: Person = Person(name=\"zzzongzii\", email=\"123@123.com\")\n",
    "print(zzzongzii)"
   ]
  },
  {
   "cell_type": "code",
   "execution_count": null,
   "id": "7ab8f1e6",
   "metadata": {},
   "outputs": [
    {
     "ename": "ValidationError",
     "evalue": "1 validation error for Person\nid\n  Value error, len(id) is greater than 3 (1234) [type=value_error, input_value=1234, input_type=int]\n    For further information visit https://errors.pydantic.dev/2.10/v/value_error",
     "output_type": "error",
     "traceback": [
      "\u001b[1;31m---------------------------------------------------------------------------\u001b[0m",
      "\u001b[1;31mValidationError\u001b[0m                           Traceback (most recent call last)",
      "Cell \u001b[1;32mIn[43], line 18\u001b[0m\n\u001b[0;32m     14\u001b[0m         \u001b[38;5;28;01mif\u001b[39;00m \u001b[38;5;28mlen\u001b[39m(\u001b[38;5;28mstr\u001b[39m(\u001b[38;5;28mid\u001b[39m)) \u001b[38;5;241m>\u001b[39m \u001b[38;5;241m3\u001b[39m:\n\u001b[0;32m     15\u001b[0m             \u001b[38;5;28;01mraise\u001b[39;00m \u001b[38;5;167;01mValueError\u001b[39;00m(\u001b[38;5;124mf\u001b[39m\u001b[38;5;124m\"\u001b[39m\u001b[38;5;124mlen(id) is greater than 3 (\u001b[39m\u001b[38;5;132;01m{\u001b[39;00mv\u001b[38;5;132;01m}\u001b[39;00m\u001b[38;5;124m)\u001b[39m\u001b[38;5;124m\"\u001b[39m)\n\u001b[1;32m---> 18\u001b[0m zzzongzii: Person \u001b[38;5;241m=\u001b[39m Person(name\u001b[38;5;241m=\u001b[39m\u001b[38;5;124m\"\u001b[39m\u001b[38;5;124mzzzongzii\u001b[39m\u001b[38;5;124m\"\u001b[39m, \u001b[38;5;28mid\u001b[39m\u001b[38;5;241m=\u001b[39m\u001b[38;5;241m1234\u001b[39m)\n\u001b[0;32m     19\u001b[0m \u001b[38;5;28mprint\u001b[39m(zzzongzii)\n",
      "File \u001b[1;32m~\\AppData\\Roaming\\Python\\Python311\\site-packages\\pydantic\\main.py:214\u001b[0m, in \u001b[0;36mBaseModel.__init__\u001b[1;34m(self, **data)\u001b[0m\n\u001b[0;32m    212\u001b[0m \u001b[38;5;66;03m# `__tracebackhide__` tells pytest and some other tools to omit this function from tracebacks\u001b[39;00m\n\u001b[0;32m    213\u001b[0m __tracebackhide__ \u001b[38;5;241m=\u001b[39m \u001b[38;5;28;01mTrue\u001b[39;00m\n\u001b[1;32m--> 214\u001b[0m validated_self \u001b[38;5;241m=\u001b[39m \u001b[38;5;28mself\u001b[39m\u001b[38;5;241m.\u001b[39m__pydantic_validator__\u001b[38;5;241m.\u001b[39mvalidate_python(data, self_instance\u001b[38;5;241m=\u001b[39m\u001b[38;5;28mself\u001b[39m)\n\u001b[0;32m    215\u001b[0m \u001b[38;5;28;01mif\u001b[39;00m \u001b[38;5;28mself\u001b[39m \u001b[38;5;129;01mis\u001b[39;00m \u001b[38;5;129;01mnot\u001b[39;00m validated_self:\n\u001b[0;32m    216\u001b[0m     warnings\u001b[38;5;241m.\u001b[39mwarn(\n\u001b[0;32m    217\u001b[0m         \u001b[38;5;124m'\u001b[39m\u001b[38;5;124mA custom validator is returning a value other than `self`.\u001b[39m\u001b[38;5;130;01m\\n\u001b[39;00m\u001b[38;5;124m'\u001b[39m\n\u001b[0;32m    218\u001b[0m         \u001b[38;5;124m\"\u001b[39m\u001b[38;5;124mReturning anything other than `self` from a top level model validator isn\u001b[39m\u001b[38;5;124m'\u001b[39m\u001b[38;5;124mt supported when validating via `__init__`.\u001b[39m\u001b[38;5;130;01m\\n\u001b[39;00m\u001b[38;5;124m\"\u001b[39m\n\u001b[0;32m    219\u001b[0m         \u001b[38;5;124m'\u001b[39m\u001b[38;5;124mSee the `model_validator` docs (https://docs.pydantic.dev/latest/concepts/validators/#model-validators) for more details.\u001b[39m\u001b[38;5;124m'\u001b[39m,\n\u001b[0;32m    220\u001b[0m         stacklevel\u001b[38;5;241m=\u001b[39m\u001b[38;5;241m2\u001b[39m,\n\u001b[0;32m    221\u001b[0m     )\n",
      "\u001b[1;31mValidationError\u001b[0m: 1 validation error for Person\nid\n  Value error, len(id) is greater than 3 (1234) [type=value_error, input_value=1234, input_type=int]\n    For further information visit https://errors.pydantic.dev/2.10/v/value_error"
     ]
    }
   ],
   "source": [
    "# 如果我们不满意 pydantic 自带的数据验证，我们可以自己通过 validator 写数据验证函数\n",
    "# 我们只需要正常抛出异常， pydantic 会自动整理成 ValidationError\n",
    "from pydantic import BaseModel, field_validator\n",
    "\n",
    "\n",
    "class Person(BaseModel):\n",
    "    name: str\n",
    "    id: int\n",
    "\n",
    "    @field_validator(\"id\")\n",
    "    # 可以不用显式声明为 classmethod 但是建议写，并且一定要在最底层\n",
    "    @classmethod\n",
    "    # 参数可以任意命名，不需要和 id 一致\n",
    "    def len_constrict(cls, v):\n",
    "        if len(str(id)) > 3:\n",
    "            raise ValueError(f\"len(id) is greater than 3 ({v})\")\n",
    "\n",
    "\n",
    "zzzongzii: Person = Person(name=\"zzzongzii\", id=1234)\n",
    "print(zzzongzii)"
   ]
  },
  {
   "cell_type": "code",
   "execution_count": 41,
   "id": "40af1497",
   "metadata": {},
   "outputs": [
    {
     "name": "stdout",
     "output_type": "stream",
     "text": [
      "{\"name\":\"zzzongzii\",\"age\":21,\"game_like\":[\"Elden Ring\",\"Sekiro\",\"Dark Soul III\"]}\n",
      "<class 'str'>\n",
      "{'name': 'zzzongzii', 'age': 21, 'game_like': ['Elden Ring', 'Sekiro', 'Dark Soul III']}\n",
      "<class 'dict'>\n",
      "name='Jack' age=12 game_like=['Dark Soul']\n",
      "True\n"
     ]
    }
   ],
   "source": [
    "# 与 JSON 数据的联动\n",
    "from pydantic import BaseModel\n",
    "\n",
    "\n",
    "class Person(BaseModel):\n",
    "    name: str\n",
    "    age: int\n",
    "    game_like: list[str]\n",
    "\n",
    "\n",
    "zzzongzii: Person = Person(\n",
    "    name=\"zzzongzii\", age=21, game_like=[\"Elden Ring\", \"Sekiro\", \"Dark Soul III\"]\n",
    ")\n",
    "\n",
    "# 转化为 json 形式数据\n",
    "print(zzzongzii.model_dump_json())\n",
    "print(type(zzzongzii.model_dump_json()))\n",
    "\n",
    "# 转化为 dict 形式数据\n",
    "print(zzzongzii.model_dump())\n",
    "print(type(zzzongzii.model_dump()))\n",
    "\n",
    "# 将 json 数据转化为 pydantic 对象\n",
    "json_str = '{\"name\": \"Jack\", \"age\": \"12\", \"game_like\": [\"Dark Soul\"]}'\n",
    "json_pydantic = Person.model_validate_json(json_str)  # 自动将 12 转化为了 int 类型\n",
    "print(json_pydantic)\n",
    "print(isinstance(json_pydantic, BaseModel))  # 已经转化为了 BaseModel 的实例对象"
   ]
  }
 ],
 "metadata": {
  "kernelspec": {
   "display_name": "Python311",
   "language": "python",
   "name": "python3"
  },
  "language_info": {
   "codemirror_mode": {
    "name": "ipython",
    "version": 3
   },
   "file_extension": ".py",
   "mimetype": "text/x-python",
   "name": "python",
   "nbconvert_exporter": "python",
   "pygments_lexer": "ipython3",
   "version": "3.11.8"
  }
 },
 "nbformat": 4,
 "nbformat_minor": 5
}
