{
 "cells": [
  {
   "cell_type": "markdown",
   "metadata": {},
   "source": [
    "使用 finally 表示无论什么情况下都要执行以下代码\n"
   ]
  },
  {
   "cell_type": "code",
   "execution_count": 3,
   "metadata": {},
   "outputs": [
    {
     "name": "stdout",
     "output_type": "stream",
     "text": [
      "There is an error, info: Exception('Something went wrong!')\n",
      "We will handle this problem as soon as possible\n"
     ]
    }
   ],
   "source": [
    "try:\n",
    "    raise Exception(\"Something went wrong!\")\n",
    "    print(\"Hello! Nice to meet u\")  # 出了异常，这句代码不会执行\n",
    "except Exception as e:\n",
    "    print(f\"There is an error, info: {repr(e)}\")\n",
    "finally:\n",
    "    print(\"We will handle this problem as soon as possible\")"
   ]
  },
  {
   "cell_type": "code",
   "execution_count": 7,
   "metadata": {},
   "outputs": [
    {
     "name": "stdout",
     "output_type": "stream",
     "text": [
      "There is an error, info: Exception('Something went wrong!')\n",
      "We will handle this problem as soon as possible\n"
     ]
    },
    {
     "name": "stderr",
     "output_type": "stream",
     "text": [
      "Traceback (most recent call last):\n",
      "  File \"C:\\Users\\34408\\AppData\\Local\\Temp\\ipykernel_44012\\1625552267.py\", line 5, in <module>\n",
      "    raise Exception(\"Something went wrong!\")\n",
      "Exception: Something went wrong!\n"
     ]
    }
   ],
   "source": [
    "# 补充知识点，如果我们还希望获得完整的 traceback 信息, traceback 信息总会放在输出的最后处理\n",
    "import traceback\n",
    "\n",
    "try:\n",
    "    raise Exception(\"Something went wrong!\")\n",
    "    print(\"Hello! Nice to meet u\")\n",
    "except Exception as e:\n",
    "    print(\"There is an error, info:\", repr(e))  # 自定义信息\n",
    "    traceback.print_exc()  # 打印完整的 Traceback 信息\n",
    "finally:\n",
    "    print(\"We will handle this problem as soon as possible\")\n"
   ]
  },
  {
   "cell_type": "markdown",
   "metadata": {},
   "source": [
    "finally 总是拥有最终决定权，比如 except 和 finally 和 except 共同定义了一类操作， python 会最终采用 finally 定义的结果\n"
   ]
  },
  {
   "cell_type": "code",
   "execution_count": 19,
   "metadata": {},
   "outputs": [
    {
     "name": "stdout",
     "output_type": "stream",
     "text": [
      "0\n",
      "1\n",
      "2\n",
      "3\n",
      "We are encountering index 3\n",
      "4\n",
      "5\n",
      "6\n",
      "7\n",
      "8\n",
      "9\n",
      "Don't afraid wrong. Let's continue.\n"
     ]
    }
   ],
   "source": [
    "def example():\n",
    "    for i in range(10):\n",
    "        try:\n",
    "            print(i)\n",
    "            if i == 3:\n",
    "                raise Exception(\"Something wrong happened!\")\n",
    "        except Exception as e:\n",
    "            print(f\"We are encountering index {i}\")\n",
    "            break  # 决定停止\n",
    "        finally:\n",
    "            continue  # 决定继续\n",
    "    print(\"Don't afraid wrong. Let's continue.\")\n",
    "\n",
    "\n",
    "example()"
   ]
  },
  {
   "cell_type": "markdown",
   "metadata": {},
   "source": [
    "可以看到循环最终还是采用了 finally 的决定，也就是继续循环（except 语句实际上也正常捕捉到异常了）\n"
   ]
  }
 ],
 "metadata": {
  "kernelspec": {
   "display_name": "Python311",
   "language": "python",
   "name": "python3"
  },
  "language_info": {
   "codemirror_mode": {
    "name": "ipython",
    "version": 3
   },
   "file_extension": ".py",
   "mimetype": "text/x-python",
   "name": "python",
   "nbconvert_exporter": "python",
   "pygments_lexer": "ipython3",
   "version": "3.11.8"
  }
 },
 "nbformat": 4,
 "nbformat_minor": 2
}
