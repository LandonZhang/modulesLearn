{
 "cells": [
  {
   "cell_type": "markdown",
   "metadata": {
    "id": "Zlf7iSNsfhE8"
   },
   "source": [
    "### numpy 基础操作\n"
   ]
  },
  {
   "cell_type": "markdown",
   "metadata": {
    "id": "_-LQta8NYD_5"
   },
   "source": [
    "使用 numpy 创建多维数组\n"
   ]
  },
  {
   "cell_type": "code",
   "execution_count": 3,
   "metadata": {
    "colab": {
     "base_uri": "https://localhost:8080/"
    },
    "executionInfo": {
     "elapsed": 22,
     "status": "ok",
     "timestamp": 1756292474478,
     "user": {
      "displayName": "Vu Dang",
      "userId": "15007056265375921362"
     },
     "user_tz": -480
    },
    "id": "vGCHSiC3YAQN",
    "outputId": "c839ea2e-c268-4768-e00a-4fbdf3a76687"
   },
   "outputs": [
    {
     "name": "stdout",
     "output_type": "stream",
     "text": [
      "(2, 3)\n",
      "[1 2 3]\n",
      "3\n"
     ]
    }
   ],
   "source": [
    "import numpy as np\n",
    "\n",
    "mul = np.array([[1, 2, 3], [4, 5, 6]])\n",
    "# 打印大小\n",
    "print(mul.shape)\n",
    "# 获取某一个位置上的数字\n",
    "print(mul[0])\n",
    "print(mul[0, 2])"
   ]
  },
  {
   "cell_type": "markdown",
   "metadata": {
    "id": "tbkWmPAnYhNn"
   },
   "source": [
    "查看数组的最大维度\n"
   ]
  },
  {
   "cell_type": "code",
   "execution_count": 8,
   "metadata": {
    "colab": {
     "base_uri": "https://localhost:8080/"
    },
    "executionInfo": {
     "elapsed": 7,
     "status": "ok",
     "timestamp": 1756279291857,
     "user": {
      "displayName": "Vu Dang",
      "userId": "15007056265375921362"
     },
     "user_tz": -480
    },
    "id": "l1ogty4lY_t2",
    "outputId": "740900c1-6ece-4002-faa9-91f392c201f2"
   },
   "outputs": [
    {
     "name": "stdout",
     "output_type": "stream",
     "text": [
      "(2, 2, 3)\n",
      "3\n",
      "12\n",
      "int64\n"
     ]
    }
   ],
   "source": [
    "mul = np.array([[[1, 2, 3], [4, 5, 6]], [[1, 2, 3], [4, 5, 6]]])\n",
    "print(mul.shape)\n",
    "print(mul.ndim)  # 返回最大维度\n",
    "print(mul.size)  # 返回数字个数 2x2x3=12\n",
    "print(mul.dtype)  # 返回元素的类型"
   ]
  },
  {
   "cell_type": "code",
   "execution_count": 12,
   "metadata": {
    "colab": {
     "base_uri": "https://localhost:8080/"
    },
    "executionInfo": {
     "elapsed": 8,
     "status": "ok",
     "timestamp": 1756279637470,
     "user": {
      "displayName": "Vu Dang",
      "userId": "15007056265375921362"
     },
     "user_tz": -480
    },
    "id": "G1Nnf3nwaWqe",
    "outputId": "7fbab06a-1004-43ee-a811-00c26ad3b205"
   },
   "outputs": [
    {
     "name": "stdout",
     "output_type": "stream",
     "text": [
      "<U21\n",
      "<class 'numpy.str_'>\n",
      "<U1\n"
     ]
    }
   ],
   "source": [
    "a = np.array([[1, 2, 3], [4, \"hello\", 5], [7, 8, 9]])\n",
    "print(a.dtype)  # <U21 -> 字符串数 <= 21\n",
    "print(type(a[0, 0]))  # 由于 \"hello\" 的存在，全部被转化为: str\n",
    "print(a[0, 0].dtype)"
   ]
  },
  {
   "cell_type": "markdown",
   "metadata": {
    "id": "MCO2EEwwbPQd"
   },
   "source": [
    "使用 numpy 创建数组可以指定数组的类型，numpy 会尝试自动转化\n"
   ]
  },
  {
   "cell_type": "code",
   "execution_count": null,
   "metadata": {
    "colab": {
     "base_uri": "https://localhost:8080/"
    },
    "executionInfo": {
     "elapsed": 14,
     "status": "ok",
     "timestamp": 1756279885308,
     "user": {
      "displayName": "Vu Dang",
      "userId": "15007056265375921362"
     },
     "user_tz": -480
    },
    "id": "KUKBAbcCbdsf",
    "outputId": "4d15368e-fbf7-4b87-e0c4-d35aa9cf412d"
   },
   "outputs": [
    {
     "name": "stdout",
     "output_type": "stream",
     "text": [
      "int32\n",
      "int32\n",
      "32\n"
     ]
    }
   ],
   "source": [
    "a = np.array(\n",
    "    [[1, 2, 3], [4, \"32\", 5], [7, 8, 9]], dtype=np.int32\n",
    ")  # \"32\" 可以被转化为数字\n",
    "print(a.dtype)\n",
    "print(a[1, 1].dtype)\n",
    "print(a[1, 1])"
   ]
  },
  {
   "cell_type": "code",
   "execution_count": 29,
   "metadata": {
    "colab": {
     "base_uri": "https://localhost:8080/"
    },
    "executionInfo": {
     "elapsed": 9,
     "status": "ok",
     "timestamp": 1756280757107,
     "user": {
      "displayName": "Vu Dang",
      "userId": "15007056265375921362"
     },
     "user_tz": -480
    },
    "id": "iptmJCIFfQf5",
    "outputId": "4ac6e9c6-a77e-47b1-8e26-4da180271768"
   },
   "outputs": [
    {
     "name": "stdout",
     "output_type": "stream",
     "text": [
      "<U1\n"
     ]
    }
   ],
   "source": [
    "mul = np.array([[1, 2, 3], [4, 5, 6]], dtype=\"<U1\")\n",
    "print(mul.dtype)"
   ]
  },
  {
   "cell_type": "markdown",
   "metadata": {
    "id": "w3MzeVWCfOOR"
   },
   "source": [
    "太离谱的不行~\n"
   ]
  },
  {
   "cell_type": "code",
   "execution_count": 15,
   "metadata": {
    "colab": {
     "base_uri": "https://localhost:8080/",
     "height": 182
    },
    "executionInfo": {
     "elapsed": 464,
     "status": "error",
     "timestamp": 1756279833478,
     "user": {
      "displayName": "Vu Dang",
      "userId": "15007056265375921362"
     },
     "user_tz": -480
    },
    "id": "KFIaLD6ibwqs",
    "outputId": "32b02d25-b9b8-4bbe-8fd8-36e677903a27"
   },
   "outputs": [
    {
     "ename": "ValueError",
     "evalue": "could not convert string to float: 'hello'",
     "output_type": "error",
     "traceback": [
      "\u001b[0;31m---------------------------------------------------------------------------\u001b[0m",
      "\u001b[0;31mValueError\u001b[0m                                Traceback (most recent call last)",
      "\u001b[0;32m/tmp/ipython-input-1509381403.py\u001b[0m in \u001b[0;36m<cell line: 0>\u001b[0;34m()\u001b[0m\n\u001b[0;32m----> 1\u001b[0;31m \u001b[0ma\u001b[0m \u001b[0;34m=\u001b[0m \u001b[0mnp\u001b[0m\u001b[0;34m.\u001b[0m\u001b[0marray\u001b[0m\u001b[0;34m(\u001b[0m\u001b[0;34m[\u001b[0m\u001b[0;34m[\u001b[0m\u001b[0;36m1\u001b[0m\u001b[0;34m,\u001b[0m \u001b[0;36m2\u001b[0m\u001b[0;34m,\u001b[0m \u001b[0;36m3\u001b[0m\u001b[0;34m]\u001b[0m\u001b[0;34m,\u001b[0m \u001b[0;34m[\u001b[0m\u001b[0;36m4\u001b[0m\u001b[0;34m,\u001b[0m \u001b[0;34m\"hello\"\u001b[0m\u001b[0;34m,\u001b[0m \u001b[0;36m5\u001b[0m\u001b[0;34m]\u001b[0m\u001b[0;34m,\u001b[0m \u001b[0;34m[\u001b[0m\u001b[0;36m7\u001b[0m\u001b[0;34m,\u001b[0m \u001b[0;36m8\u001b[0m\u001b[0;34m,\u001b[0m \u001b[0;36m9\u001b[0m\u001b[0;34m]\u001b[0m\u001b[0;34m]\u001b[0m\u001b[0;34m,\u001b[0m \u001b[0mdtype\u001b[0m\u001b[0;34m=\u001b[0m\u001b[0mnp\u001b[0m\u001b[0;34m.\u001b[0m\u001b[0mfloat32\u001b[0m\u001b[0;34m)\u001b[0m\u001b[0;34m\u001b[0m\u001b[0;34m\u001b[0m\u001b[0m\n\u001b[0m\u001b[1;32m      2\u001b[0m \u001b[0mprint\u001b[0m\u001b[0;34m(\u001b[0m\u001b[0ma\u001b[0m\u001b[0;34m.\u001b[0m\u001b[0mdtype\u001b[0m\u001b[0;34m)\u001b[0m\u001b[0;34m\u001b[0m\u001b[0;34m\u001b[0m\u001b[0m\n\u001b[1;32m      3\u001b[0m \u001b[0mprint\u001b[0m\u001b[0;34m(\u001b[0m\u001b[0ma\u001b[0m\u001b[0;34m[\u001b[0m\u001b[0;36m1\u001b[0m\u001b[0;34m,\u001b[0m \u001b[0;36m1\u001b[0m\u001b[0;34m]\u001b[0m\u001b[0;34m.\u001b[0m\u001b[0mdtype\u001b[0m\u001b[0;34m)\u001b[0m\u001b[0;34m\u001b[0m\u001b[0;34m\u001b[0m\u001b[0m\n",
      "\u001b[0;31mValueError\u001b[0m: could not convert string to float: 'hello'"
     ]
    }
   ],
   "source": [
    "a = np.array([[1, 2, 3], [4, \"hello\", 5], [7, 8, 9]], dtype=np.float32)\n",
    "# print(a.dtype)\n",
    "# print(a[1, 1].dtype)"
   ]
  },
  {
   "cell_type": "markdown",
   "metadata": {
    "id": "bzlsBHlyeGvl"
   },
   "source": [
    "如果 np.array 中的数据类型过于复杂 -> 包括了字典,集合等数据类型。由于 numpy 背后底层的 C 语言无法解析，所以整个 array 中的元素退回到了最原始的 python object 中，这就导致 numpy 一些方法不再可用尽管 `type(a) == <class 'numpy.ndarray'>`\n"
   ]
  },
  {
   "cell_type": "code",
   "execution_count": 24,
   "metadata": {
    "colab": {
     "base_uri": "https://localhost:8080/"
    },
    "executionInfo": {
     "elapsed": 12,
     "status": "ok",
     "timestamp": 1756280573841,
     "user": {
      "displayName": "Vu Dang",
      "userId": "15007056265375921362"
     },
     "user_tz": -480
    },
    "id": "2aOl_7OOdWpc",
    "outputId": "d5bad31c-c2b4-4eea-e592-c5f8758908a1"
   },
   "outputs": [
    {
     "name": "stdout",
     "output_type": "stream",
     "text": [
      "<class 'numpy.int64'>\n",
      "int64\n"
     ]
    }
   ],
   "source": [
    "# 这个情况下我们可以对 np.int64 使用 dtype\n",
    "a = np.array([[1, 2, 3], [4, 5, 6]])\n",
    "print(type(a[0, 1]))\n",
    "print(a[0, 1].dtype)"
   ]
  },
  {
   "cell_type": "code",
   "execution_count": 27,
   "metadata": {
    "colab": {
     "base_uri": "https://localhost:8080/",
     "height": 237
    },
    "executionInfo": {
     "elapsed": 28,
     "status": "error",
     "timestamp": 1756280681860,
     "user": {
      "displayName": "Vu Dang",
      "userId": "15007056265375921362"
     },
     "user_tz": -480
    },
    "id": "G0s5zS6ub6fo",
    "outputId": "9d12c0da-d2db-40e4-c463-88c0904989b3"
   },
   "outputs": [
    {
     "name": "stdout",
     "output_type": "stream",
     "text": [
      "object\n",
      "<class 'numpy.ndarray'>\n",
      "<class 'int'>\n"
     ]
    },
    {
     "ename": "AttributeError",
     "evalue": "'int' object has no attribute 'dtype'",
     "output_type": "error",
     "traceback": [
      "\u001b[0;31m---------------------------------------------------------------------------\u001b[0m",
      "\u001b[0;31mAttributeError\u001b[0m                            Traceback (most recent call last)",
      "\u001b[0;32m/tmp/ipython-input-4087795195.py\u001b[0m in \u001b[0;36m<cell line: 0>\u001b[0;34m()\u001b[0m\n\u001b[1;32m      5\u001b[0m \u001b[0mprint\u001b[0m\u001b[0;34m(\u001b[0m\u001b[0mtype\u001b[0m\u001b[0;34m(\u001b[0m\u001b[0ma\u001b[0m\u001b[0;34m)\u001b[0m\u001b[0;34m)\u001b[0m\u001b[0;34m\u001b[0m\u001b[0;34m\u001b[0m\u001b[0m\n\u001b[1;32m      6\u001b[0m \u001b[0mprint\u001b[0m\u001b[0;34m(\u001b[0m\u001b[0mtype\u001b[0m\u001b[0;34m(\u001b[0m\u001b[0ma\u001b[0m\u001b[0;34m[\u001b[0m\u001b[0;36m0\u001b[0m\u001b[0;34m,\u001b[0m \u001b[0;36m1\u001b[0m\u001b[0;34m]\u001b[0m\u001b[0;34m)\u001b[0m\u001b[0;34m)\u001b[0m\u001b[0;34m\u001b[0m\u001b[0;34m\u001b[0m\u001b[0m\n\u001b[0;32m----> 7\u001b[0;31m \u001b[0mprint\u001b[0m\u001b[0;34m(\u001b[0m\u001b[0ma\u001b[0m\u001b[0;34m[\u001b[0m\u001b[0;36m0\u001b[0m\u001b[0;34m,\u001b[0m \u001b[0;36m1\u001b[0m\u001b[0;34m]\u001b[0m\u001b[0;34m.\u001b[0m\u001b[0mdtype\u001b[0m\u001b[0;34m)\u001b[0m  \u001b[0;31m# 由于为基础的 int 类型，故使用 np 的方法报错\u001b[0m\u001b[0;34m\u001b[0m\u001b[0;34m\u001b[0m\u001b[0m\n\u001b[0m",
      "\u001b[0;31mAttributeError\u001b[0m: 'int' object has no attribute 'dtype'"
     ]
    }
   ],
   "source": [
    "# 使用方法报错\n",
    "d = {\"name\": \"Landon\"}\n",
    "a = np.array([[1, 2, 3], [4, d, 6]])\n",
    "print(a.dtype)  # 为 object 而不是 numpy 中的数据类型\n",
    "print(type(a))\n",
    "print(type(a[0, 1]))\n",
    "print(a[0, 1].dtype)  # 由于为基础的 int 类型，故使用 np 的方法报错"
   ]
  },
  {
   "cell_type": "markdown",
   "metadata": {
    "id": "IcWvwD_Tffy-"
   },
   "source": [
    "### numpy 快速创建数组\n"
   ]
  },
  {
   "cell_type": "code",
   "execution_count": 31,
   "metadata": {
    "colab": {
     "base_uri": "https://localhost:8080/"
    },
    "executionInfo": {
     "elapsed": 19,
     "status": "ok",
     "timestamp": 1756280887152,
     "user": {
      "displayName": "Vu Dang",
      "userId": "15007056265375921362"
     },
     "user_tz": -480
    },
    "id": "nQJcaIUtfpcN",
    "outputId": "ef2bae80-d742-4487-9ac9-97ebda2bb9d3"
   },
   "outputs": [
    {
     "name": "stdout",
     "output_type": "stream",
     "text": [
      "[[[9 9 9 9]\n",
      "  [9 9 9 9]\n",
      "  [9 9 9 9]]\n",
      "\n",
      " [[9 9 9 9]\n",
      "  [9 9 9 9]\n",
      "  [9 9 9 9]]]\n"
     ]
    }
   ],
   "source": [
    "# 一个 2x3x4 的矩阵，全用 9 填充\n",
    "\n",
    "a = np.full((2, 3, 4), 9)\n",
    "print(a)"
   ]
  },
  {
   "cell_type": "code",
   "execution_count": 33,
   "metadata": {
    "colab": {
     "base_uri": "https://localhost:8080/"
    },
    "executionInfo": {
     "elapsed": 10,
     "status": "ok",
     "timestamp": 1756280972917,
     "user": {
      "displayName": "Vu Dang",
      "userId": "15007056265375921362"
     },
     "user_tz": -480
    },
    "id": "A1yZF75yf6zv",
    "outputId": "0d5140bf-b095-4784-d6a5-fb17e5b891af"
   },
   "outputs": [
    {
     "name": "stdout",
     "output_type": "stream",
     "text": [
      "[[[0. 0.]\n",
      "  [0. 0.]\n",
      "  [0. 0.]\n",
      "  [0. 0.]\n",
      "  [0. 0.]]\n",
      "\n",
      " [[0. 0.]\n",
      "  [0. 0.]\n",
      "  [0. 0.]\n",
      "  [0. 0.]\n",
      "  [0. 0.]]]\n",
      "[[[1. 1.]\n",
      "  [1. 1.]\n",
      "  [1. 1.]\n",
      "  [1. 1.]\n",
      "  [1. 1.]]\n",
      "\n",
      " [[1. 1.]\n",
      "  [1. 1.]\n",
      "  [1. 1.]\n",
      "  [1. 1.]\n",
      "  [1. 1.]]]\n"
     ]
    }
   ],
   "source": [
    "a = np.zeros((2, 5, 2))\n",
    "b = np.ones((2, 5, 2))\n",
    "print(a)\n",
    "print(b)"
   ]
  },
  {
   "cell_type": "code",
   "execution_count": 34,
   "metadata": {
    "colab": {
     "base_uri": "https://localhost:8080/"
    },
    "executionInfo": {
     "elapsed": 51,
     "status": "ok",
     "timestamp": 1756281133414,
     "user": {
      "displayName": "Vu Dang",
      "userId": "15007056265375921362"
     },
     "user_tz": -480
    },
    "id": "9opyBn85geej",
    "outputId": "c6ec9fbd-74a2-4c3c-faaf-36d4809eb022"
   },
   "outputs": [
    {
     "name": "stdout",
     "output_type": "stream",
     "text": [
      "[0.  0.5 1.  1.5 2.  2.5 3.  3.5 4.  4.5 5.  5.5 6.  6.5 7.  7.5 8.  8.5\n",
      " 9.  9.5]\n"
     ]
    }
   ],
   "source": [
    "x_value = np.arange(0, 10, 0.5)  # 创建一个 range 数组\n",
    "print(x_value)"
   ]
  },
  {
   "cell_type": "code",
   "execution_count": 35,
   "metadata": {
    "colab": {
     "base_uri": "https://localhost:8080/"
    },
    "executionInfo": {
     "elapsed": 15,
     "status": "ok",
     "timestamp": 1756281231112,
     "user": {
      "displayName": "Vu Dang",
      "userId": "15007056265375921362"
     },
     "user_tz": -480
    },
    "id": "o9l0EdMohHu1",
    "outputId": "0c7da616-c019-42f7-d47b-2199c3ac35c8"
   },
   "outputs": [
    {
     "data": {
      "text/plain": [
       "array([ 0.,  5., 10.])"
      ]
     },
     "execution_count": 35,
     "metadata": {},
     "output_type": "execute_result"
    }
   ],
   "source": [
    "x_value = np.linspace(0, 10, 3)\n",
    "x_value  # 10 / (3-1) 作为步长"
   ]
  },
  {
   "cell_type": "markdown",
   "metadata": {
    "id": "btBkuZVzhY-3"
   },
   "source": [
    "### 特殊字符\n",
    "\n",
    "`nan` 表示缺失值; `inf` 表示无限大\n"
   ]
  },
  {
   "cell_type": "code",
   "execution_count": 38,
   "metadata": {
    "colab": {
     "base_uri": "https://localhost:8080/"
    },
    "executionInfo": {
     "elapsed": 15,
     "status": "ok",
     "timestamp": 1756281467903,
     "user": {
      "displayName": "Vu Dang",
      "userId": "15007056265375921362"
     },
     "user_tz": -480
    },
    "id": "NX1887wFhmSW",
    "outputId": "d390ee85-ebe4-427c-a97a-4df74db3da2e"
   },
   "outputs": [
    {
     "name": "stdout",
     "output_type": "stream",
     "text": [
      "nan\n",
      "inf\n"
     ]
    }
   ],
   "source": [
    "print(np.nan)\n",
    "print(np.inf)"
   ]
  },
  {
   "cell_type": "code",
   "execution_count": 41,
   "metadata": {
    "colab": {
     "base_uri": "https://localhost:8080/"
    },
    "executionInfo": {
     "elapsed": 16,
     "status": "ok",
     "timestamp": 1756281619450,
     "user": {
      "displayName": "Vu Dang",
      "userId": "15007056265375921362"
     },
     "user_tz": -480
    },
    "id": "f-nqI8bTiJgq",
    "outputId": "b7499700-9df6-4850-8675-efb3db77059f"
   },
   "outputs": [
    {
     "name": "stdout",
     "output_type": "stream",
     "text": [
      "True\n",
      "True\n",
      "[ True]\n"
     ]
    },
    {
     "name": "stderr",
     "output_type": "stream",
     "text": [
      "/tmp/ipython-input-1845142053.py:3: RuntimeWarning: invalid value encountered in sqrt\n",
      "  print(np.isnan(np.sqrt(-1)))\n",
      "/tmp/ipython-input-1845142053.py:4: RuntimeWarning: divide by zero encountered in divide\n",
      "  print(np.isinf(np.array([10]) / 0))\n"
     ]
    }
   ],
   "source": [
    "# 判断是否为特殊值\n",
    "print(np.isnan(np.nan))\n",
    "print(np.isnan(np.sqrt(-1)))\n",
    "print(np.isinf(np.array([10]) / 0))"
   ]
  },
  {
   "cell_type": "markdown",
   "metadata": {
    "id": "12l9WIt_i4Go"
   },
   "source": [
    "### 使用 numpy 进行数学运算\n"
   ]
  },
  {
   "cell_type": "code",
   "execution_count": 42,
   "metadata": {
    "colab": {
     "base_uri": "https://localhost:8080/"
    },
    "executionInfo": {
     "elapsed": 13,
     "status": "ok",
     "timestamp": 1756281948563,
     "user": {
      "displayName": "Vu Dang",
      "userId": "15007056265375921362"
     },
     "user_tz": -480
    },
    "id": "kdBEefksi6gZ",
    "outputId": "235c8876-243c-4331-edf9-1e94ba0665c0"
   },
   "outputs": [
    {
     "name": "stdout",
     "output_type": "stream",
     "text": [
      "14\n"
     ]
    }
   ],
   "source": [
    "a = [1, 2, 3]\n",
    "b = [1, 2, 3]\n",
    "print(np.dot(a, b))"
   ]
  },
  {
   "cell_type": "markdown",
   "metadata": {
    "id": "VAeTrVF7n84L"
   },
   "source": [
    "其实使用 numpy 进行数学运算和 matlab 基本是差不多的逻辑，所以我在这儿不再赘述了，问 AI 基本能解决 99% 的问题，用法和 matlab 基本一致\n"
   ]
  },
  {
   "cell_type": "markdown",
   "metadata": {
    "id": "JQ6Xz8iDoG4s"
   },
   "source": [
    "### np.array 操作\n"
   ]
  },
  {
   "cell_type": "code",
   "execution_count": 52,
   "metadata": {
    "colab": {
     "base_uri": "https://localhost:8080/"
    },
    "executionInfo": {
     "elapsed": 322,
     "status": "ok",
     "timestamp": 1756283296917,
     "user": {
      "displayName": "Vu Dang",
      "userId": "15007056265375921362"
     },
     "user_tz": -480
    },
    "id": "7g6AzLQKoLVk",
    "outputId": "91818d42-c535-4770-d324-48c1b0a3daea"
   },
   "outputs": [
    {
     "name": "stdout",
     "output_type": "stream",
     "text": [
      "[1 2 3 7 8 9]\n",
      "[1 2 3]\n"
     ]
    }
   ],
   "source": [
    "a = np.array([1, 2, 3])\n",
    "# 追加元素\n",
    "print(np.append(a, [7, 8, 9]))\n",
    "print(a)  # 不会直接在原变量上进行改变"
   ]
  },
  {
   "cell_type": "code",
   "execution_count": 53,
   "metadata": {
    "colab": {
     "base_uri": "https://localhost:8080/"
    },
    "executionInfo": {
     "elapsed": 6,
     "status": "ok",
     "timestamp": 1756283298234,
     "user": {
      "displayName": "Vu Dang",
      "userId": "15007056265375921362"
     },
     "user_tz": -480
    },
    "id": "ozI_kJC7oipd",
    "outputId": "99c7ebcc-a7e5-4477-bd51-17393295e8bd"
   },
   "outputs": [
    {
     "name": "stdout",
     "output_type": "stream",
     "text": [
      "[1 2 3 4 5 6]\n"
     ]
    }
   ],
   "source": [
    "# 插入元素到指定位置\n",
    "a = np.insert(a, 3, [4, 5, 6])\n",
    "print(a)"
   ]
  },
  {
   "cell_type": "markdown",
   "metadata": {
    "id": "ygFLhioSqQJq"
   },
   "source": [
    "从 np.array 中删除元素\n",
    "由于删除元素之后，矩阵往往不再保持原形，故 numpy 会直接将数据降为 1 维\n"
   ]
  },
  {
   "cell_type": "code",
   "execution_count": 54,
   "metadata": {
    "colab": {
     "base_uri": "https://localhost:8080/"
    },
    "executionInfo": {
     "elapsed": 327,
     "status": "ok",
     "timestamp": 1756283551396,
     "user": {
      "displayName": "Vu Dang",
      "userId": "15007056265375921362"
     },
     "user_tz": -480
    },
    "id": "AoTRMSPXpXo8",
    "outputId": "f8c53e3b-6237-4ad6-dbb2-41150592e2b8"
   },
   "outputs": [
    {
     "name": "stdout",
     "output_type": "stream",
     "text": [
      "[1 3 4 5 6]\n"
     ]
    }
   ],
   "source": [
    "# 从指定位置删除元素\n",
    "a = np.array([[1, 2, 3], [4, 5, 6]])\n",
    "# np.array 的索引排序方式是从左到右，从上到下\n",
    "print(np.delete(a, 1))  # 不指定 axis 的话是删除单个元素"
   ]
  },
  {
   "cell_type": "code",
   "execution_count": 56,
   "metadata": {
    "colab": {
     "base_uri": "https://localhost:8080/"
    },
    "executionInfo": {
     "elapsed": 307,
     "status": "ok",
     "timestamp": 1756283749897,
     "user": {
      "displayName": "Vu Dang",
      "userId": "15007056265375921362"
     },
     "user_tz": -480
    },
    "id": "dx-muXR6qTRA",
    "outputId": "166f96db-2906-4b73-b95e-ba7c4473c8b3"
   },
   "outputs": [
    {
     "name": "stdout",
     "output_type": "stream",
     "text": [
      "[[1 2 3]]\n",
      "[[1 3]\n",
      " [4 6]]\n"
     ]
    }
   ],
   "source": [
    "# 从指定axis删除元素\n",
    "a = np.array([[1, 2, 3], [4, 5, 6]])\n",
    "print(np.delete(a, 1, 0))  # axis = 0 表示行\n",
    "print(np.delete(a, 1, 1))  # axis = 1 表示列"
   ]
  },
  {
   "cell_type": "markdown",
   "metadata": {
    "id": "9v4YL1Raq4I7"
   },
   "source": [
    "### 重构 np.arrray 的结构\n"
   ]
  },
  {
   "cell_type": "code",
   "execution_count": 63,
   "metadata": {
    "colab": {
     "base_uri": "https://localhost:8080/"
    },
    "executionInfo": {
     "elapsed": 372,
     "status": "ok",
     "timestamp": 1756284818365,
     "user": {
      "displayName": "Vu Dang",
      "userId": "15007056265375921362"
     },
     "user_tz": -480
    },
    "id": "Jgo6qhkFq9Ye",
    "outputId": "eb9dcf99-4614-4976-8042-189c5722ddae"
   },
   "outputs": [
    {
     "name": "stdout",
     "output_type": "stream",
     "text": [
      "(2, 5)\n",
      "[[ 1  2]\n",
      " [ 3  4]\n",
      " [ 5  6]\n",
      " [ 7  8]\n",
      " [ 9 10]]\n",
      "[[ 1  2]\n",
      " [ 3  4]\n",
      " [ 5  6]\n",
      " [ 7  8]\n",
      " [ 9 10]]\n"
     ]
    }
   ],
   "source": [
    "a = np.array([[1, 2, 3, 4, 5], [6, 7, 8, 9, 10]])\n",
    "print(a.shape)\n",
    "print(a.reshape(5, 2))  # 按行重新排列\n",
    "print(a.reshape(5, int(a.size / 5)))"
   ]
  },
  {
   "cell_type": "code",
   "execution_count": 66,
   "metadata": {
    "colab": {
     "base_uri": "https://localhost:8080/"
    },
    "executionInfo": {
     "elapsed": 338,
     "status": "ok",
     "timestamp": 1756285391821,
     "user": {
      "displayName": "Vu Dang",
      "userId": "15007056265375921362"
     },
     "user_tz": -480
    },
    "id": "Z0vWIlY4wnlF",
    "outputId": "f455852d-6227-42e3-d2bb-95a4d5c7e9d0"
   },
   "outputs": [
    {
     "name": "stdout",
     "output_type": "stream",
     "text": [
      "[[ 1  2]\n",
      " [ 3  4]\n",
      " [ 5  6]\n",
      " [ 7  8]\n",
      " [ 9 10]]\n"
     ]
    }
   ],
   "source": [
    "# 如果你希望 reshape 的结果立马传入 a 变量中，需要使用 resize\n",
    "a = np.array([[1, 2, 3, 4, 5], [6, 7, 8, 9, 10]])\n",
    "a.resize(5, 2)\n",
    "print(a)  # 立刻发生改变"
   ]
  },
  {
   "cell_type": "markdown",
   "metadata": {
    "id": "GhonJXJXxuA4"
   },
   "source": [
    "将高维数组展平：\n",
    "\n",
    "1. `faltten()` 返回数组的 copy 形式（修改不影响原数组）\n",
    "2. `ravel()` 返回原数组的快照（修改影响原数组）\n"
   ]
  },
  {
   "cell_type": "code",
   "execution_count": 69,
   "metadata": {
    "colab": {
     "base_uri": "https://localhost:8080/"
    },
    "executionInfo": {
     "elapsed": 330,
     "status": "ok",
     "timestamp": 1756285695551,
     "user": {
      "displayName": "Vu Dang",
      "userId": "15007056265375921362"
     },
     "user_tz": -480
    },
    "id": "WNTJXmBYxL0K",
    "outputId": "2ae2524a-1709-4909-e806-6679e823742d"
   },
   "outputs": [
    {
     "name": "stdout",
     "output_type": "stream",
     "text": [
      "[ 1  2  3  4  5  6  7  8  9 10]\n",
      "[[ 1  2  3  4  5]\n",
      " [ 6  7  8  9 10]]\n",
      "[ 1 99  3  4  5  6  7  8  9 10]\n"
     ]
    }
   ],
   "source": [
    "a = np.array([[1, 2, 3, 4, 5], [6, 7, 8, 9, 10]])\n",
    "print(a.flatten())\n",
    "var1 = a.flatten()\n",
    "var1[1] = 99\n",
    "print(a)\n",
    "print(var1)"
   ]
  },
  {
   "cell_type": "code",
   "execution_count": 70,
   "metadata": {
    "colab": {
     "base_uri": "https://localhost:8080/"
    },
    "executionInfo": {
     "elapsed": 317,
     "status": "ok",
     "timestamp": 1756285780017,
     "user": {
      "displayName": "Vu Dang",
      "userId": "15007056265375921362"
     },
     "user_tz": -480
    },
    "id": "OJuxUaG3yQCD",
    "outputId": "59f62dd3-dd1c-4d6e-ba8a-ec34dd65e22a"
   },
   "outputs": [
    {
     "name": "stdout",
     "output_type": "stream",
     "text": [
      "[ 1  2  3  4  5  6  7  8  9 10]\n",
      "[ 1 99  3  4  5  6  7  8  9 10]\n",
      "[[ 1 99  3  4  5]\n",
      " [ 6  7  8  9 10]]\n"
     ]
    }
   ],
   "source": [
    "a = np.array([[1, 2, 3, 4, 5], [6, 7, 8, 9, 10]])\n",
    "var2 = a.ravel()  # 返回快照\n",
    "print(var2)\n",
    "var2[1] = 99\n",
    "print(var2)\n",
    "print(a)  # 原数组也发生了变化"
   ]
  },
  {
   "cell_type": "markdown",
   "metadata": {
    "id": "rgJfDBaFyvcO"
   },
   "source": [
    "### 矩阵变换\n"
   ]
  },
  {
   "cell_type": "code",
   "execution_count": 72,
   "metadata": {
    "colab": {
     "base_uri": "https://localhost:8080/"
    },
    "executionInfo": {
     "elapsed": 362,
     "status": "ok",
     "timestamp": 1756285929934,
     "user": {
      "displayName": "Vu Dang",
      "userId": "15007056265375921362"
     },
     "user_tz": -480
    },
    "id": "zU1lPYDiyyLq",
    "outputId": "e38823d2-db85-4da7-cfb2-a571fdd09a28"
   },
   "outputs": [
    {
     "name": "stdout",
     "output_type": "stream",
     "text": [
      "[[ 1  2  3  4  5]\n",
      " [ 6  7  8  9 10]]\n"
     ]
    },
    {
     "data": {
      "text/plain": [
       "array([[ 1,  6],\n",
       "       [ 2,  7],\n",
       "       [ 3,  8],\n",
       "       [ 4,  9],\n",
       "       [ 5, 10]])"
      ]
     },
     "execution_count": 72,
     "metadata": {},
     "output_type": "execute_result"
    }
   ],
   "source": [
    "a = np.array([[1, 2, 3, 4, 5], [6, 7, 8, 9, 10]])\n",
    "print(a)\n",
    "a.T  # a.transpose()"
   ]
  },
  {
   "cell_type": "code",
   "execution_count": 73,
   "metadata": {
    "colab": {
     "base_uri": "https://localhost:8080/"
    },
    "executionInfo": {
     "elapsed": 336,
     "status": "ok",
     "timestamp": 1756286034158,
     "user": {
      "displayName": "Vu Dang",
      "userId": "15007056265375921362"
     },
     "user_tz": -480
    },
    "id": "XG8_srTXzNzL",
    "outputId": "0c31b560-a5c1-4aa2-e035-fe479aaa77b8"
   },
   "outputs": [
    {
     "data": {
      "text/plain": [
       "array([[ 1,  6],\n",
       "       [ 2,  7],\n",
       "       [ 3,  8],\n",
       "       [ 4,  9],\n",
       "       [ 5, 10]])"
      ]
     },
     "execution_count": 73,
     "metadata": {},
     "output_type": "execute_result"
    }
   ],
   "source": [
    "# 可以使用 swapaxes 函数交换指定两个轴的数组\n",
    "a = np.array([[1, 2, 3, 4, 5], [6, 7, 8, 9, 10]])\n",
    "a.swapaxes(0, 1)  # 这里和转置的效果一样"
   ]
  },
  {
   "cell_type": "markdown",
   "metadata": {
    "id": "FdGyGbKnNMAp"
   },
   "source": [
    "![微信图片_20250827190705_271_21.jpg](data:image/jpeg;base64,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)\n"
   ]
  },
  {
   "cell_type": "code",
   "execution_count": null,
   "metadata": {
    "colab": {
     "base_uri": "https://localhost:8080/"
    },
    "executionInfo": {
     "elapsed": 16,
     "status": "ok",
     "timestamp": 1756292481474,
     "user": {
      "displayName": "Vu Dang",
      "userId": "15007056265375921362"
     },
     "user_tz": -480
    },
    "id": "Dst4EwEwzmT4",
    "outputId": "bb623a79-99f8-4a80-9977-9b6fbfe0fcab"
   },
   "outputs": [
    {
     "name": "stdout",
     "output_type": "stream",
     "text": [
      "[[[ 1  2  3]\n",
      "  [ 4  5  6]]\n",
      "\n",
      " [[11 22 33]\n",
      "  [44 55 66]]]\n",
      "********************\n",
      "[[[ 1 11]\n",
      "  [ 4 44]]\n",
      "\n",
      " [[ 2 22]\n",
      "  [ 5 55]]\n",
      "\n",
      " [[ 3 33]\n",
      "  [ 6 66]]]\n"
     ]
    }
   ],
   "source": [
    "a = np.array([[[1, 2, 3], [4, 5, 6]], [[11, 22, 33], [44, 55, 66]]])\n",
    "print(a, end=\"\\n\" + \"*\" * 20 + \"\\n\")\n",
    "print(a.swapaxes(0, 2))  # 行方向为 0, 列方向为 1, 垂直方向为 2"
   ]
  },
  {
   "cell_type": "markdown",
   "metadata": {
    "id": "Fyta2sgu1ES2"
   },
   "source": [
    "### 数组拼接\n",
    "\n",
    "拼接输入的两个数组都需要用元组表示\n"
   ]
  },
  {
   "cell_type": "code",
   "execution_count": 83,
   "metadata": {
    "colab": {
     "base_uri": "https://localhost:8080/"
    },
    "executionInfo": {
     "elapsed": 389,
     "status": "ok",
     "timestamp": 1756286579542,
     "user": {
      "displayName": "Vu Dang",
      "userId": "15007056265375921362"
     },
     "user_tz": -480
    },
    "id": "ISYfJPOu1G0_",
    "outputId": "8240d36f-6ebf-4582-91ce-09cd17b8f14c"
   },
   "outputs": [
    {
     "name": "stdout",
     "output_type": "stream",
     "text": [
      "[[ 1  2  3]\n",
      " [ 4  5  6]\n",
      " [ 7  8  9]\n",
      " [10 11 12]]\n",
      "[[ 1  2  3  7  8  9]\n",
      " [ 4  5  6 10 11 12]]\n"
     ]
    }
   ],
   "source": [
    "a1 = np.array([[1, 2, 3], [4, 5, 6]])\n",
    "a2 = np.array([[7, 8, 9], [10, 11, 12]])\n",
    "a = np.concatenate((a1, a2), axis=0)\n",
    "print(a)  # 按行拼接\n",
    "a = np.concatenate((a1, a2), axis=1)\n",
    "print(a)  # 按列拼接"
   ]
  },
  {
   "cell_type": "markdown",
   "metadata": {
    "id": "Yeuq6Mfw10SS"
   },
   "source": [
    "我们可以将两个二维数组“堆叠起来”获得三维数组\n",
    "\n",
    "即为 batch_size\n"
   ]
  },
  {
   "cell_type": "code",
   "execution_count": 89,
   "metadata": {
    "colab": {
     "base_uri": "https://localhost:8080/"
    },
    "executionInfo": {
     "elapsed": 3,
     "status": "ok",
     "timestamp": 1756286772439,
     "user": {
      "displayName": "Vu Dang",
      "userId": "15007056265375921362"
     },
     "user_tz": -480
    },
    "id": "Xdw9cM0D15V0",
    "outputId": "f064e71d-4fcf-4e40-b9f4-97b85c58e2b0"
   },
   "outputs": [
    {
     "name": "stdout",
     "output_type": "stream",
     "text": [
      "[[[ 1  2  3]\n",
      "  [ 4  5  6]]\n",
      "\n",
      " [[ 7  8  9]\n",
      "  [10 11 12]]]\n"
     ]
    }
   ],
   "source": [
    "a1 = np.array([[1, 2, 3], [4, 5, 6]])\n",
    "a2 = np.array([[7, 8, 9], [10, 11, 12]])\n",
    "a = np.stack((a1, a2))\n",
    "print(a)"
   ]
  },
  {
   "cell_type": "markdown",
   "metadata": {
    "id": "ePOE9qpi2oAc"
   },
   "source": [
    "### 数组拆分\n"
   ]
  },
  {
   "cell_type": "code",
   "execution_count": 93,
   "metadata": {
    "colab": {
     "base_uri": "https://localhost:8080/"
    },
    "executionInfo": {
     "elapsed": 599,
     "status": "ok",
     "timestamp": 1756287012948,
     "user": {
      "displayName": "Vu Dang",
      "userId": "15007056265375921362"
     },
     "user_tz": -480
    },
    "id": "PX3INNBo2pKv",
    "outputId": "3044c5a0-990f-4818-8f45-55a12fd83f61"
   },
   "outputs": [
    {
     "name": "stdout",
     "output_type": "stream",
     "text": [
      "[array([[1, 2, 3],\n",
      "       [4, 5, 6]]), array([[ 7,  8,  9],\n",
      "       [10, 11, 12]])]\n",
      "[array([[ 1],\n",
      "       [ 4],\n",
      "       [ 7],\n",
      "       [10]]), array([[ 2],\n",
      "       [ 5],\n",
      "       [ 8],\n",
      "       [11]]), array([[ 3],\n",
      "       [ 6],\n",
      "       [ 9],\n",
      "       [12]])]\n"
     ]
    }
   ],
   "source": [
    "a = np.array([[1, 2, 3], [4, 5, 6], [7, 8, 9], [10, 11, 12]])\n",
    "print(np.split(a, 2, axis=0))\n",
    "print(np.split(a, 3, axis=1))"
   ]
  },
  {
   "cell_type": "markdown",
   "metadata": {
    "id": "wTNOC37mOFiW"
   },
   "source": [
    "### 基础运算函数\n"
   ]
  },
  {
   "cell_type": "code",
   "execution_count": 18,
   "metadata": {
    "colab": {
     "base_uri": "https://localhost:8080/"
    },
    "executionInfo": {
     "elapsed": 19,
     "status": "ok",
     "timestamp": 1756293452638,
     "user": {
      "displayName": "Vu Dang",
      "userId": "15007056265375921362"
     },
     "user_tz": -480
    },
    "id": "EHty1FDMOK5x",
    "outputId": "825d2fa6-5cf1-46e7-a54c-1aa273622cdc"
   },
   "outputs": [
    {
     "name": "stdout",
     "output_type": "stream",
     "text": [
      "1\n",
      "12\n",
      "6.5\n",
      "3.452052529534663\n",
      "11.916666666666666\n",
      "78\n",
      "6.5\n"
     ]
    }
   ],
   "source": [
    "a = np.array([[1, 2, 3], [4, 5, 6], [7, 8, 9], [10, 11, 12]])\n",
    "\n",
    "# 计算一些统计信息\n",
    "print(a.min())\n",
    "print(a.max())\n",
    "print(a.mean())\n",
    "print(a.std())  # 标准差\n",
    "print(a.var())  # 方差\n",
    "print(a.sum())\n",
    "print(np.median(a))"
   ]
  },
  {
   "cell_type": "markdown",
   "metadata": {
    "id": "2SaRhf4VO5dW"
   },
   "source": [
    "### `np.random` 使用\n"
   ]
  },
  {
   "cell_type": "code",
   "execution_count": 16,
   "metadata": {
    "colab": {
     "base_uri": "https://localhost:8080/"
    },
    "executionInfo": {
     "elapsed": 16,
     "status": "ok",
     "timestamp": 1756293294075,
     "user": {
      "displayName": "Vu Dang",
      "userId": "15007056265375921362"
     },
     "user_tz": -480
    },
    "id": "MXK1Ry65O-ak",
    "outputId": "f784b0cc-817c-4802-b52b-429f8d393096"
   },
   "outputs": [
    {
     "name": "stdout",
     "output_type": "stream",
     "text": [
      "[[7 4 1]\n",
      " [7 1 9]]\n"
     ]
    }
   ],
   "source": [
    "number = np.random.randint(0, 10, size=(2, 3))  # 指定生成形状\n",
    "print(number)"
   ]
  },
  {
   "cell_type": "code",
   "execution_count": 17,
   "metadata": {
    "colab": {
     "base_uri": "https://localhost:8080/"
    },
    "executionInfo": {
     "elapsed": 17,
     "status": "ok",
     "timestamp": 1756293426138,
     "user": {
      "displayName": "Vu Dang",
      "userId": "15007056265375921362"
     },
     "user_tz": -480
    },
    "id": "xSD1mkSOPTlU",
    "outputId": "a37603b5-24d7-4f96-e4bd-056ddf0a2a33"
   },
   "outputs": [
    {
     "name": "stdout",
     "output_type": "stream",
     "text": [
      "[[142.48951211 154.36962734 195.57609732 174.67823841 169.30409084\n",
      "  170.96345785 164.34415784 181.1227345  183.142743   182.58688389]\n",
      " [174.94801861 146.40676867 190.29491934 179.2400635  157.44830878\n",
      "  166.53398441 158.7415007  176.57624715 172.76552529 184.32510078]\n",
      " [168.37964964 173.4858211  163.18824692 180.84966372 162.37069997\n",
      "  175.93214892 159.05967594 167.10022681 157.57823761 159.03081251]\n",
      " [156.47854847 169.17442257 184.37013238 167.3355882  166.77661569\n",
      "  161.92963621 163.25818593 172.35416692 192.00923201 142.85841495]\n",
      " [176.09792821 167.81342494 152.84554408 169.91750848 166.7087366\n",
      "  168.39721537 169.29867051 197.18386492 186.96512208 147.86260839]]\n"
     ]
    }
   ],
   "source": [
    "# 生成符合正态分布的数字\n",
    "number = np.random.normal(loc=170, scale=15, size=(5, 10))\n",
    "print(number)"
   ]
  },
  {
   "cell_type": "code",
   "execution_count": 20,
   "metadata": {
    "colab": {
     "base_uri": "https://localhost:8080/"
    },
    "executionInfo": {
     "elapsed": 15,
     "status": "ok",
     "timestamp": 1756293521594,
     "user": {
      "displayName": "Vu Dang",
      "userId": "15007056265375921362"
     },
     "user_tz": -480
    },
    "id": "c5s95UxsP9IN",
    "outputId": "c7c3d0dc-0d6b-4f4b-ed43-e25c9eeb6844"
   },
   "outputs": [
    {
     "name": "stdout",
     "output_type": "stream",
     "text": [
      "[[40 30 10]\n",
      " [40 10 10]]\n"
     ]
    }
   ],
   "source": [
    "# 从选项中选出想要的形状\n",
    "number = np.random.choice([10, 20, 30, 40], size=(2, 3))\n",
    "print(number)"
   ]
  },
  {
   "cell_type": "markdown",
   "metadata": {
    "id": "02I_1lpvQPFL"
   },
   "source": [
    "### 保存和导出数组\n"
   ]
  },
  {
   "cell_type": "code",
   "execution_count": null,
   "metadata": {
    "executionInfo": {
     "elapsed": 8,
     "status": "ok",
     "timestamp": 1756293656286,
     "user": {
      "displayName": "Vu Dang",
      "userId": "15007056265375921362"
     },
     "user_tz": -480
    },
    "id": "MmHSvZYmQSbk"
   },
   "outputs": [],
   "source": [
    "# 使用 .npy 文件\n",
    "np.save(\"number.npy\", a)"
   ]
  },
  {
   "cell_type": "code",
   "execution_count": 4,
   "metadata": {
    "colab": {
     "base_uri": "https://localhost:8080/"
    },
    "executionInfo": {
     "elapsed": 50,
     "status": "ok",
     "timestamp": 1756293804048,
     "user": {
      "displayName": "Vu Dang",
      "userId": "15007056265375921362"
     },
     "user_tz": -480
    },
    "id": "3T6ULlZnQ8zs",
    "outputId": "c9917a33-4e99-4fe6-8649-b08118e21185"
   },
   "outputs": [
    {
     "name": "stdout",
     "output_type": "stream",
     "text": [
      "[[ 1  2  3]\n",
      " [ 4  5  6]\n",
      " [ 7  8  9]\n",
      " [10 11 12]]\n"
     ]
    }
   ],
   "source": [
    "a = np.load(\"number.npy\")\n",
    "print(a)"
   ]
  },
  {
   "cell_type": "code",
   "execution_count": null,
   "metadata": {
    "executionInfo": {
     "elapsed": 20,
     "status": "ok",
     "timestamp": 1756293860688,
     "user": {
      "displayName": "Vu Dang",
      "userId": "15007056265375921362"
     },
     "user_tz": -480
    },
    "id": "Ip0xy1ujROgc"
   },
   "outputs": [],
   "source": [
    "# 保存为 csv 文件\n",
    "np.savetxt(\"number.csv\", a, delimiter=\",\")"
   ]
  },
  {
   "cell_type": "code",
   "execution_count": null,
   "metadata": {
    "colab": {
     "base_uri": "https://localhost:8080/"
    },
    "executionInfo": {
     "elapsed": 24,
     "status": "ok",
     "timestamp": 1756293903383,
     "user": {
      "displayName": "Vu Dang",
      "userId": "15007056265375921362"
     },
     "user_tz": -480
    },
    "id": "kXTysz_JRZvQ",
    "outputId": "65a0b74b-ca72-4bb4-f742-64dc6c6eb17f"
   },
   "outputs": [
    {
     "name": "stdout",
     "output_type": "stream",
     "text": [
      "[[ 1.  2.  3.]\n",
      " [ 4.  5.  6.]\n",
      " [ 7.  8.  9.]\n",
      " [10. 11. 12.]]\n"
     ]
    }
   ],
   "source": [
    "a = np.loadtxt(\"number.csv\", delimiter=\",\")\n",
    "print(a)"
   ]
  }
 ],
 "metadata": {
  "colab": {
   "authorship_tag": "ABX9TyOvQiSpyQuLzSM2RnWoL9xX",
   "mount_file_id": "1_9H7biFjRR4Duk9l0fe4HhqzT2oMfzcT",
   "provenance": []
  },
  "kernelspec": {
   "display_name": "python312",
   "language": "python",
   "name": "python3"
  },
  "language_info": {
   "codemirror_mode": {
    "name": "ipython",
    "version": 3
   },
   "file_extension": ".py",
   "mimetype": "text/x-python",
   "name": "python",
   "nbconvert_exporter": "python",
   "pygments_lexer": "ipython3",
   "version": "3.12.11"
  }
 },
 "nbformat": 4,
 "nbformat_minor": 0
}
