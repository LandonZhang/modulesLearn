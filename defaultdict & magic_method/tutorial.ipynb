{
 "cells": [
  {
   "cell_type": "markdown",
   "id": "e75135e7",
   "metadata": {},
   "source": [
    "`defaultdict` 可以实现当访问字典中不存在的键时，不报错，而是调用工厂函数先初始化一个值，允许你进行下一步操作\n",
    "\n",
    "- int 初始化为 0\n",
    "- list, set 初始化为空列表、集合\n"
   ]
  },
  {
   "cell_type": "code",
   "execution_count": null,
   "id": "01634b39",
   "metadata": {},
   "outputs": [
    {
     "name": "stdout",
     "output_type": "stream",
     "text": [
      "defaultdict(<class 'int'>, {'I': 1, ' ': 2, 'l': 1, 'o': 2, 'v': 1, 'e': 1, 'c': 1, 'd': 1, 'i': 1, 'n': 1, 'g': 1, '~': 1})\n",
      "{'I': 1, ' ': 2, 'l': 1, 'o': 2, 'v': 1, 'e': 1, 'c': 1, 'd': 1, 'i': 1, 'n': 1, 'g': 1, '~': 1}\n",
      "[' ', 'o', 'I', 'l', 'v', 'e', 'c', 'd', 'i', 'n', 'g', '~']\n"
     ]
    }
   ],
   "source": [
    "from collections import defaultdict\n",
    "\n",
    "string: str = \"I love coding~\"\n",
    "\n",
    "# 将每个字符出现的次数初始化为 0\n",
    "word_count: defaultdict[str, int] = defaultdict(int)\n",
    "\n",
    "for word in string:\n",
    "    word_count[word] += 1\n",
    "\n",
    "# 打印出 defaultdict\n",
    "print(word_count)\n",
    "\n",
    "# 打印出正常的 dict\n",
    "print(dict(word_count))\n",
    "\n",
    "\n",
    "# 按照值进行排序从大到小输出\n",
    "print(sorted(word_count, key=lambda x: word_count[x], reverse=True))"
   ]
  },
  {
   "cell_type": "code",
   "execution_count": 1,
   "id": "c821715e",
   "metadata": {},
   "outputs": [
    {
     "name": "stdout",
     "output_type": "stream",
     "text": [
      "{'a': [1, 2], 'b': [3, 2], 'c': [4]}\n"
     ]
    }
   ],
   "source": [
    "from collections import defaultdict\n",
    "from typing import List, Tuple\n",
    "\n",
    "items: List[Tuple[str, int]] = [(\"a\", 1), (\"a\", 2), (\"b\", 3), (\"c\", 4), (\"b\", 2)]\n",
    "\n",
    "word_equip: defaultdict[str, list] = defaultdict(list)\n",
    "\n",
    "for item in items:\n",
    "    word_equip[item[0]].append(item[1])\n",
    "\n",
    "print(dict(word_equip))"
   ]
  },
  {
   "cell_type": "markdown",
   "id": "faac8b91",
   "metadata": {},
   "source": [
    "通过 `__iter__` 和 `__next__` 方法可以实现自己的 Iterable 迭代器\n"
   ]
  },
  {
   "cell_type": "code",
   "execution_count": null,
   "id": "69ccf0e6",
   "metadata": {},
   "outputs": [
    {
     "name": "stdout",
     "output_type": "stream",
     "text": [
      "10\n",
      "9\n",
      "8\n",
      "7\n",
      "6\n",
      "5\n",
      "4\n",
      "3\n",
      "2\n",
      "1\n",
      "0\n"
     ]
    }
   ],
   "source": [
    "# 实现一个倒计时器\n",
    "class CountDown:\n",
    "    def __init__(self, value: int) -> None:\n",
    "        if value <= 0:\n",
    "            raise ValueError(\"value must larger than zero\")\n",
    "        self.value = value\n",
    "\n",
    "    def __iter__(self):\n",
    "        \"\"\"调用迭代器的时候先调用 __iter__ 之后返回一个值，之后迭代时调用 __next__(返回值)\"\"\"\n",
    "        return self\n",
    "\n",
    "    def __next__(self):\n",
    "        if self.value >= 0:\n",
    "            value = self.value\n",
    "            self.value -= 1\n",
    "            return value\n",
    "        else:\n",
    "            raise StopIteration\n",
    "\n",
    "\n",
    "count_down = CountDown(10)\n",
    "\n",
    "for i in count_down:\n",
    "    print(i)"
   ]
  },
  {
   "cell_type": "markdown",
   "id": "928a90e4",
   "metadata": {},
   "source": [
    "使用 `__enter__`和`__exit__` 实现上下文管理器\n"
   ]
  },
  {
   "cell_type": "code",
   "execution_count": null,
   "id": "923410b8",
   "metadata": {},
   "outputs": [
    {
     "name": "stdout",
     "output_type": "stream",
     "text": [
      "打开文件\n",
      "关闭文件\n"
     ]
    }
   ],
   "source": [
    "class FileManager:\n",
    "    def __init__(self, filename, mode):\n",
    "        self.filename = filename\n",
    "        self.mode = mode\n",
    "        self.file = None\n",
    "\n",
    "    def __enter__(self):\n",
    "        print(\"打开文件\")\n",
    "        self.file = open(self.filename, self.mode)\n",
    "        return self.file  # 这里返回的对象会赋给 with as 后面的变量\n",
    "\n",
    "    def __exit__(self, exc_type, exc_val, exc_tb):\n",
    "        \"\"\"\n",
    "        完成 with as 中语句后调用\n",
    "\n",
    "        Args:\n",
    "            exc_type (Any): 表示异常类型\n",
    "            exc_val (Any): 表示异常值\n",
    "            exc_tb (Any): 表示traceback\n",
    "        \"\"\"\n",
    "        print(\"关闭文件\")\n",
    "        if self.file:\n",
    "            self.file.close()\n",
    "        if exc_type:\n",
    "            print(f\"Error happened: {exc_val}\")\n",
    "        # 如果不想异常终止程序，返回 True；否则返回 False\n",
    "        return True\n",
    "\n",
    "\n",
    "# 使用示例\n",
    "with FileManager(\"test.txt\", \"w\") as f:\n",
    "    f.write(\"Hello, world!\")\n"
   ]
  },
  {
   "cell_type": "code",
   "execution_count": 17,
   "id": "ed072b01",
   "metadata": {},
   "outputs": [
    {
     "name": "stdout",
     "output_type": "stream",
     "text": [
      "进入上下文\n",
      "即将除以 0\n",
      "触发 __exit__\n",
      "异常类型: <class 'ZeroDivisionError'>\n",
      "异常值: division by zero\n",
      "程序正常结束（异常被抑制）\n"
     ]
    }
   ],
   "source": [
    "import traceback\n",
    "\n",
    "\n",
    "class SuppressException:\n",
    "    \"\"\"\n",
    "    查看上下文管理器如何处理异常\n",
    "    \"\"\"\n",
    "\n",
    "    def __enter__(self):\n",
    "        print(\"进入上下文\")\n",
    "        return self\n",
    "\n",
    "    def __exit__(self, exc_type, exc_val, exc_tb):\n",
    "        print(\"触发 __exit__\")\n",
    "        print(f\"异常类型: {exc_type}\")\n",
    "        print(f\"异常值: {exc_val}\")\n",
    "        # 返回 True 表示：异常已处理，不要向上传递\n",
    "        return True\n",
    "\n",
    "\n",
    "with SuppressException():\n",
    "    print(\"即将除以 0\")\n",
    "    1 / 0\n",
    "print(\"程序正常结束（异常被抑制）\")\n"
   ]
  }
 ],
 "metadata": {
  "kernelspec": {
   "display_name": "Python311",
   "language": "python",
   "name": "python3"
  },
  "language_info": {
   "codemirror_mode": {
    "name": "ipython",
    "version": 3
   },
   "file_extension": ".py",
   "mimetype": "text/x-python",
   "name": "python",
   "nbconvert_exporter": "python",
   "pygments_lexer": "ipython3",
   "version": "3.11.8"
  }
 },
 "nbformat": 4,
 "nbformat_minor": 5
}
