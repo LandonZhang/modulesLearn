{
 "cells": [
  {
   "cell_type": "markdown",
   "metadata": {},
   "source": [
    "格式化大数字\n"
   ]
  },
  {
   "cell_type": "code",
   "execution_count": 2,
   "metadata": {},
   "outputs": [
    {
     "name": "stdout",
     "output_type": "stream",
     "text": [
      "10,000,000\n"
     ]
    }
   ],
   "source": [
    "num: int = 10000000\n",
    "print(f\"{num:,}\")"
   ]
  },
  {
   "cell_type": "code",
   "execution_count": 31,
   "metadata": {},
   "outputs": [
    {
     "name": "stdout",
     "output_type": "stream",
     "text": [
      "1.62e+09\n",
      "1620000000.0\n"
     ]
    }
   ],
   "source": [
    "big_num = 1620000000\n",
    "print(f\"{big_num:.2e}\")  # 指定科学计数法需要保留几位小数\n",
    "print(1.62e9)"
   ]
  },
  {
   "cell_type": "markdown",
   "metadata": {},
   "source": [
    "创建指定字符的文字并且调整关键字符的位置\n"
   ]
  },
  {
   "cell_type": "code",
   "execution_count": 11,
   "metadata": {},
   "outputs": [
    {
     "name": "stdout",
     "output_type": "stream",
     "text": [
      "We have finished                                  :\n",
      "                                  We have finished\n",
      "                 We have finished                 \n",
      "-----------------We have finished-----------------\n"
     ]
    }
   ],
   "source": [
    "slogan: str = \"We have finished\"\n",
    "\n",
    "# {slogan:<50} 共含有50个字符，将目标向左对齐\n",
    "print(f\"{slogan:<50}:\")\n",
    "\n",
    "# {slogan:>50} 共含有50个字符，将目标向左对齐\n",
    "print(f\"{slogan:>50}\")\n",
    "\n",
    "# {slogan:^50} 共含有50个字符，将目标居中对齐\n",
    "print(f\"{slogan:^50}\")\n",
    "\n",
    "# 设置填充字符为 -\n",
    "print(f\"{slogan:-^50}\")"
   ]
  },
  {
   "cell_type": "code",
   "execution_count": 2,
   "metadata": {},
   "outputs": [
    {
     "name": "stdout",
     "output_type": "stream",
     "text": [
      "2025年06月20日-12:19:35\n",
      "Fri Jun 20 12:19:35 2025\n"
     ]
    }
   ],
   "source": [
    "from datetime import datetime\n",
    "\n",
    "now: datetime = datetime.now()\n",
    "\n",
    "print(f\"{now:%Y年%m月%d日-%H:%M:%S}\")\n",
    "print(f\"{now:%c}\")  # 使用当地时间给出回复"
   ]
  },
  {
   "cell_type": "markdown",
   "metadata": {},
   "source": [
    "控制小数点的位数\n"
   ]
  },
  {
   "cell_type": "code",
   "execution_count": 23,
   "metadata": {},
   "outputs": [
    {
     "name": "stdout",
     "output_type": "stream",
     "text": [
      "1,234.57\n"
     ]
    }
   ],
   "source": [
    "num = 1234.5678\n",
    "\n",
    "print(f\"{num:,.2f}\")  # 保留两位数并使用 , 作为分割符号"
   ]
  },
  {
   "cell_type": "markdown",
   "metadata": {},
   "source": [
    "用于控制整数的位数\n"
   ]
  },
  {
   "cell_type": "code",
   "execution_count": 49,
   "metadata": {},
   "outputs": [
    {
     "name": "stdout",
     "output_type": "stream",
     "text": [
      ":00001\n"
     ]
    }
   ],
   "source": [
    "num = 1\n",
    "print(f\":{num:05d}\")  # 创建5个数字，不足之处用 0 来补齐"
   ]
  },
  {
   "cell_type": "markdown",
   "metadata": {},
   "source": [
    "用于调试信息\n"
   ]
  },
  {
   "cell_type": "code",
   "execution_count": 24,
   "metadata": {},
   "outputs": [
    {
     "name": "stdout",
     "output_type": "stream",
     "text": [
      "a + b = 4\n"
     ]
    }
   ],
   "source": [
    "a = 1\n",
    "b = 3\n",
    "print(f\"{a + b = }\")  # 不仅会输出结果，还会输出等号与之前的部分"
   ]
  },
  {
   "cell_type": "code",
   "execution_count": 25,
   "metadata": {},
   "outputs": [
    {
     "name": "stdout",
     "output_type": "stream",
     "text": [
      "slogan = 'Just do it'\n"
     ]
    }
   ],
   "source": [
    "slogan = \"Just do it\"\n",
    "print(f\"{slogan = }\")  # 不仅仅是数字，等号前面的信息都会被保存"
   ]
  },
  {
   "cell_type": "markdown",
   "metadata": {},
   "source": [
    "调试信息与格式化混用\n"
   ]
  },
  {
   "cell_type": "code",
   "execution_count": 4,
   "metadata": {},
   "outputs": [
    {
     "name": "stdout",
     "output_type": "stream",
     "text": [
      "0.47000000000000003\n",
      "a + b = 0.47\n",
      "0.47\n"
     ]
    }
   ],
   "source": [
    "a = 0.13\n",
    "b = 0.34\n",
    "print(a + b)\n",
    "print(f\"{a + b = :.2f}\")"
   ]
  },
  {
   "cell_type": "markdown",
   "metadata": {},
   "source": [
    "格式化字符串与原始字符串的混用\n"
   ]
  },
  {
   "cell_type": "code",
   "execution_count": 55,
   "metadata": {},
   "outputs": [
    {
     "name": "stdout",
     "output_type": "stream",
     "text": [
      "Windows\\C:\\program\\zzzongzii\n"
     ]
    }
   ],
   "source": [
    "user_name: str = \"zzzongzii\"\n",
    "path = rf\"Windows\\C:\\program\\{user_name}\"\n",
    "print(path)"
   ]
  },
  {
   "cell_type": "markdown",
   "metadata": {},
   "source": [
    "取消字符串的引号\n"
   ]
  },
  {
   "cell_type": "code",
   "execution_count": 59,
   "metadata": {},
   "outputs": [
    {
     "name": "stdout",
     "output_type": "stream",
     "text": [
      "name = 'zzzongzii'\n",
      "name = zzzongzii\n",
      "zzzongzii\n"
     ]
    }
   ],
   "source": [
    "name = \"zzzongzii\"\n",
    "print(f\"{name = }\")\n",
    "print(f\"{name = !s}\")  # 强调这是一个字符串\n",
    "print(\"zzzongzii\")"
   ]
  }
 ],
 "metadata": {
  "kernelspec": {
   "display_name": "Python311",
   "language": "python",
   "name": "python3"
  },
  "language_info": {
   "codemirror_mode": {
    "name": "ipython",
    "version": 3
   },
   "file_extension": ".py",
   "mimetype": "text/x-python",
   "name": "python",
   "nbconvert_exporter": "python",
   "pygments_lexer": "ipython3",
   "version": "3.11.8"
  }
 },
 "nbformat": 4,
 "nbformat_minor": 2
}
