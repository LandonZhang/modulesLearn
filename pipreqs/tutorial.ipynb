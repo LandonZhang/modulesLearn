{
 "cells": [
  {
   "cell_type": "markdown",
   "metadata": {},
   "source": [
    "pipreqs 可以自动分析目录内的 python 文件，生成更加精简的 requirements.txt 文件\n",
    "**使用方式如下：**\n",
    "\n",
    "1. pip install pipreqs #进行安装\n",
    "\n",
    "在当前工作目录下进行分析并生成文件\n",
    "\n",
    "2. pipreqs ./\n"
   ]
  }
 ],
 "metadata": {
  "language_info": {
   "name": "python"
  }
 },
 "nbformat": 4,
 "nbformat_minor": 2
}
