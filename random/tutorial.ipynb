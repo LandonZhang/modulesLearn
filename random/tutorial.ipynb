{
 "cells": [
  {
   "cell_type": "markdown",
   "metadata": {},
   "source": [
    "通过 `random.random()` 可以在 [0,1) 之间生成随机小数\n"
   ]
  },
  {
   "cell_type": "code",
   "execution_count": 2,
   "metadata": {},
   "outputs": [
    {
     "name": "stdout",
     "output_type": "stream",
     "text": [
      "0.6643661172941854\n"
     ]
    }
   ],
   "source": [
    "import random\n",
    "\n",
    "data = random.random()\n",
    "\n",
    "print(data)"
   ]
  },
  {
   "cell_type": "markdown",
   "metadata": {},
   "source": [
    "如果想在任意范围内生成随机数，可以使用 `random.uniform()`\n"
   ]
  },
  {
   "cell_type": "code",
   "execution_count": 3,
   "metadata": {},
   "outputs": [
    {
     "name": "stdout",
     "output_type": "stream",
     "text": [
      "1.4340338941969666\n"
     ]
    }
   ],
   "source": [
    "import random\n",
    "\n",
    "data = random.uniform(1, 2)\n",
    "print(data)"
   ]
  },
  {
   "cell_type": "markdown",
   "metadata": {},
   "source": [
    "如果想在任意范围内生成整数，可以使用 `random.randint(a, b)` -> [a, b]\n"
   ]
  },
  {
   "cell_type": "code",
   "execution_count": 57,
   "metadata": {},
   "outputs": [
    {
     "name": "stdout",
     "output_type": "stream",
     "text": [
      "6\n"
     ]
    }
   ],
   "source": [
    "import random\n",
    "\n",
    "data = random.randint(1, 6)\n",
    "print(data)"
   ]
  },
  {
   "cell_type": "markdown",
   "metadata": {},
   "source": [
    "如果需要在一个列表中选择一个随机的，可以使用 `random.choice()`\n"
   ]
  },
  {
   "cell_type": "code",
   "execution_count": 72,
   "metadata": {},
   "outputs": [
    {
     "name": "stdout",
     "output_type": "stream",
     "text": [
      "You Landon has been chosen\n"
     ]
    }
   ],
   "source": [
    "import random\n",
    "\n",
    "names = [\"zzzongzii\", \"Landon\", \"Tom\", \"Danking\"]\n",
    "\n",
    "name = random.choice(names)\n",
    "print(f\"You {name} has been chosen\")"
   ]
  },
  {
   "cell_type": "markdown",
   "metadata": {},
   "source": [
    "如果我们需要一次性随机选择多个数据的话，可以使用`random.choices()`\n",
    "\n",
    "- k 用来决定选择的次数\n"
   ]
  },
  {
   "cell_type": "code",
   "execution_count": 86,
   "metadata": {},
   "outputs": [
    {
     "name": "stdout",
     "output_type": "stream",
     "text": [
      "['zzzongzii', 'zzzongzii', 'Danking'] has been chosen\n"
     ]
    }
   ],
   "source": [
    "import random\n",
    "\n",
    "names = [\"zzzongzii\", \"Landon\", \"Tom\", \"Danking\"]\n",
    "\n",
    "names_chosen = random.choices(names, k=3)\n",
    "print(f\"{names_chosen} has been chosen\")"
   ]
  },
  {
   "cell_type": "markdown",
   "metadata": {},
   "source": [
    "如果我们希望为每个选项分配不同的权重，可以使用 `weights` 参数\n"
   ]
  },
  {
   "cell_type": "code",
   "execution_count": 95,
   "metadata": {},
   "outputs": [
    {
     "name": "stdout",
     "output_type": "stream",
     "text": [
      "['Landon', 'zzzongzii', 'Tom', 'Tom', 'Danking', 'Tom', 'zzzongzii', 'Landon', 'Landon', 'zzzongzii', 'Landon', 'zzzongzii', 'Landon', 'Danking', 'Danking'] has been chosen\n"
     ]
    }
   ],
   "source": [
    "import random\n",
    "\n",
    "names = [\"zzzongzii\", \"Landon\", \"Tom\", \"Danking\"]\n",
    "\n",
    "names_chosen = random.choices(names, weights=[5, 5, 3, 2], k=15)\n",
    "print(f\"{names_chosen} has been chosen\")"
   ]
  },
  {
   "cell_type": "markdown",
   "metadata": {},
   "source": [
    "但是 `choice` 有个致命的弱点就是会有重复选择的情况，我们需要唯一选择的时候可以使用 `sample`\n"
   ]
  },
  {
   "cell_type": "code",
   "execution_count": 102,
   "metadata": {},
   "outputs": [
    {
     "name": "stdout",
     "output_type": "stream",
     "text": [
      "['Tom', 'zzzongzii', 'Danking'] has been chosen\n"
     ]
    }
   ],
   "source": [
    "import random\n",
    "\n",
    "names = [\"zzzongzii\", \"Landon\", \"Tom\", \"Danking\"]\n",
    "\n",
    "names_chosen = random.sample(names, k=3)\n",
    "print(f\"{names_chosen} has been chosen\")"
   ]
  },
  {
   "cell_type": "markdown",
   "metadata": {},
   "source": [
    "如果想打乱一个数组，可以使用 `random.shuffle()` (注意是直接在原位置打乱)\n"
   ]
  },
  {
   "cell_type": "code",
   "execution_count": 106,
   "metadata": {},
   "outputs": [
    {
     "name": "stdout",
     "output_type": "stream",
     "text": [
      "[1, 2, 3, 4, 5, 6, 7, 8, 9, 10, 11, 12, 13, 14, 15, 16, 17, 18, 19, 20, 21, 22, 23, 24, 25, 26, 27, 28, 29, 30, 31, 32, 33, 34, 35, 36, 37, 38, 39, 40, 41, 42, 43, 44, 45, 46, 47, 48, 49, 50, 51, 52]\n",
      "[18, 35, 24, 33, 52, 44, 13, 39, 21, 3, 36, 5, 17, 22, 4, 20, 45, 9, 25, 34, 26, 47, 31, 46, 11, 27, 15, 43, 38, 29, 16, 28, 37, 2, 42, 1, 14, 48, 32, 50, 40, 19, 51, 7, 6, 12, 49, 23, 10, 41, 8, 30]\n",
      "[1, 2, 3, 4, 5, 6, 7, 8, 9, 10, 11, 12, 13, 14, 15, 16, 17, 18, 19, 20, 21, 22, 23, 24, 25, 26, 27, 28, 29, 30, 31, 32, 33, 34, 35, 36, 37, 38, 39, 40, 41, 42, 43, 44, 45, 46, 47, 48, 49, 50, 51, 52]\n"
     ]
    }
   ],
   "source": [
    "from copy import copy\n",
    "import random\n",
    "\n",
    "deck = list(range(1, 53))\n",
    "print(deck)\n",
    "\n",
    "deck_copy = copy(deck)\n",
    "random.shuffle(deck_copy)\n",
    "print(deck_copy)\n",
    "print(deck)"
   ]
  },
  {
   "cell_type": "markdown",
   "metadata": {},
   "source": [
    "复习一下深复制、浅复制吧！\n",
    "\n",
    "- 浅复制：只复制最外层的容器，里面的子对象（比如列表、字典）还是原来的引用。\n",
    "- 深复制：连里面嵌套的所有子对象也一起递归复制，新的对象和原对象完全独立。\n"
   ]
  },
  {
   "cell_type": "code",
   "execution_count": 108,
   "metadata": {},
   "outputs": [
    {
     "name": "stdout",
     "output_type": "stream",
     "text": [
      "原对象: [1, 2, [3, 4, 6, 7], 5]\n",
      "浅复制: [1, 2, [3, 4, 6, 7]]\n",
      "深复制: [1, 2, [3, 4]]\n"
     ]
    }
   ],
   "source": [
    "import copy\n",
    "\n",
    "a = [1, 2, [3, 4]]\n",
    "b = copy.copy(a)  # 浅复制\n",
    "c = copy.deepcopy(a)  # 深复制\n",
    "\n",
    "# 修改容器内数据\n",
    "a.append(5)\n",
    "# 修改子对象数据\n",
    "a[2].append(6)\n",
    "# 修改浅复制对象中子对象的数据\n",
    "b[2].append(7)\n",
    "\n",
    "print(\"原对象:\", a)  # [1, 2, [3, 4, 6, 7], 5] 里面的 7 也反被复制对象影响了\n",
    "print(\"浅复制:\", b)  # [1, 2, [3, 4, 6, 7]] 里面的 [3, 4] 被修改了\n",
    "print(\"深复制:\", c)  # [1, 2, [3, 4]] 完全不受影响\n"
   ]
  }
 ],
 "metadata": {
  "kernelspec": {
   "display_name": "base",
   "language": "python",
   "name": "python3"
  },
  "language_info": {
   "codemirror_mode": {
    "name": "ipython",
    "version": 3
   },
   "file_extension": ".py",
   "mimetype": "text/x-python",
   "name": "python",
   "nbconvert_exporter": "python",
   "pygments_lexer": "ipython3",
   "version": "3.11.7"
  }
 },
 "nbformat": 4,
 "nbformat_minor": 2
}
