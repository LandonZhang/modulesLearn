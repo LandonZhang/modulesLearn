{
 "cells": [
  {
   "cell_type": "markdown",
   "id": "3036c87b",
   "metadata": {},
   "source": [
    "yield 可以实现惰性返回值，仅仅在 next() 显式调用的时候才返回值，正常函数调用形式只是生成一个 **生成器**\n",
    "\n",
    "当 python 监测到函数中含有 yield 关键字的时候，它就会将函数定义一个生成器，正常调用是不会返回值的，只有显式调用 next() 的时候才会返回值\n"
   ]
  },
  {
   "cell_type": "code",
   "execution_count": null,
   "id": "ca2e5a2e",
   "metadata": {},
   "outputs": [
    {
     "name": "stdout",
     "output_type": "stream",
     "text": [
      "call 1\n",
      "1\n",
      "----------\n",
      "call 2\n",
      "2\n",
      "----------\n",
      "call 3\n",
      "3\n",
      "----------\n"
     ]
    }
   ],
   "source": [
    "def yield_test():\n",
    "    print(\"call 1\")\n",
    "    yield 1  # 第一次执行 next 返回 1，然后停止\n",
    "    print(\"call 2\")  # 再一次调用 next 将从这行开始执行\n",
    "    yield 2\n",
    "    print(\"call 3\")\n",
    "    yield 3\n",
    "\n",
    "\n",
    "t = yield_test()  # 初始化生成器，不会调用函数\n",
    "\n",
    "# 使用 next 调用函数\n",
    "print(next(t))\n",
    "print(\"-\" * 10)\n",
    "print(next(t))\n",
    "print(\"-\" * 10)\n",
    "print(next(t))\n",
    "print(\"-\" * 10)"
   ]
  },
  {
   "cell_type": "markdown",
   "id": "c2823e52",
   "metadata": {},
   "source": [
    "yield 字段主要用于将大文件按需加载到内存中，而不是一次性 readlines() 因为 for 循环读取的时候，会自动调用 next 方法使得 yield 不断返回需要的行的\n"
   ]
  },
  {
   "cell_type": "code",
   "execution_count": null,
   "id": "a7b19579",
   "metadata": {},
   "outputs": [],
   "source": [
    "def read_large_file(file_path):\n",
    "    with open(file_path, \"r\", encoding=\"utf-8\") as f:\n",
    "        for line in f:  # 每次调用完返回值之后都停在这里\n",
    "            yield line.strip()  # 每次只返回一行\n",
    "\n",
    "\n",
    "# 使用 for 循环将自动调用 next 使 yield 返回值\n",
    "for line in read_large_file(\"huge_log.txt\"):\n",
    "    if \"ERROR\" in line:\n",
    "        print(line)\n"
   ]
  }
 ],
 "metadata": {
  "kernelspec": {
   "display_name": "base",
   "language": "python",
   "name": "python3"
  },
  "language_info": {
   "codemirror_mode": {
    "name": "ipython",
    "version": 3
   },
   "file_extension": ".py",
   "mimetype": "text/x-python",
   "name": "python",
   "nbconvert_exporter": "python",
   "pygments_lexer": "ipython3",
   "version": "3.12.7"
  }
 },
 "nbformat": 4,
 "nbformat_minor": 5
}
